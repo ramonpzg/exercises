{
 "cells": [
  {
   "cell_type": "markdown",
   "id": "2b7f75f4-edf5-4d2a-b01c-9c76082ca7ed",
   "metadata": {},
   "source": [
    "# Statistics Workshop\n",
    "\n",
    "#### The data\n",
    "The data set for the workshop is taken from the 2016 USA births data set. It has been chosen because it is suitable for applying the skills you are learning throughout this module, and these skills are transferable to many different data sets. However, this data set also represents humans at a vulnerable and emotional moment in their lives. It has been chosen to remind you that choices you make and conclusions you draw in data analysis can impact on real people, and can contain biases that affect both groups and individuals.\n",
    "\n",
    "For some people, childbirth is a sensitive and emotive topic. Please be aware of this in the discussions that you have. If you are affected by issues raised in this data set or workshop, or if you are concerned about your wellbeing, talk to your mentor or contact our safeguarding team at `safeguarding@decoded.com`. If you would prefer not to participate in the workshop, let your mentor know. There is an alternative data set and completed notebook available.\n",
    "\n",
    "## Your Brief\n",
    "You are part of a team of social researchers who have been asked to provide information and advice for policy makers. You have been asked to investigate some questions using a sample from the 2016 USA births data set in more depth.\n",
    "\n",
    "You'll need to select the relevant variables and data, calculate descriptive statistics and create visualisations to investigate the questions. In each case, think about what conclusions you can draw from your data. How sure can you be? Are there any ethical considerations?\n",
    "\n",
    "## Questions to investigate\n",
    "1. How much do most women weigh before they have their first baby? Are there any exceptions/anomalies?\n",
    "   * Extension: Do women tend to weigh more or less at the beginning of subsequent pregnancies?\n",
    "2. Do smokers have smaller babies?\n",
    "3. Are male and female babies different?\n",
    "4. Are heavier women taller?\n",
    "5. Are married women more educated?\n",
    "6. Are there any other insights you can take from the data?\n",
    "\n",
    "#### Data dictionary\n",
    "*Demographic data*\n",
    "- `mother_age`: the age of the mother, in years\n",
    "- `mother_race6`: the mother's race (1 = White (only), 2 = Black (only), 3 = AIAN (only) (American Indian or Alaskan Native), 4 = Asian (only), 5 = NHOPI (only) (Native Hawaiian or Other Pacific Islander), 6 = More than one race)\n",
    "- `martial_status`: the mother's marital status (1 = married, 2 = unmarried)\n",
    "- `mother_edu`: the mother's education level (1 = 8th grade or less, 2 = 9th through 12th grade with no diploma, 3 = High school graduate or GED completed, 5 = Some college credit, but not a degree, 5 = Associate degree (AA,AS), 6 = Bachelor’s degree (BA, AB, BS), 7= Master’s degree (MA, MS, MEng, MEd, MSW, MBA), 8 = Doctorate (PhD, EdD) or Professional Degree (MD, DDS, DVM, LLB, JD), 9 = Unknown)\n",
    "\n",
    "*Medical data*\n",
    "- `birth_order_num`: the birth order of the baby (1 = first child, 2 = second child and so on)\n",
    "- `prenatal_visits`: the number of prenatal visits the mother had\n",
    "- `smoker`: whether or not the mother smoked any cigarettes during pregnancy (N for no, Y for yes)\n",
    "- `mother_height`: the mother's height, in inches\n",
    "- `mother_BMI`: the mother's pre-pregnancy body mass index\n",
    "- `mother_pre_weight`: the mother's pre-pregnancy weight, in pounds\n",
    "\n",
    "*Baby data*\n",
    "- `infant_sex`: the sex of the baby (M for male, F for female)\n",
    "- `gest_weeks`: the length of the pregnancy, in weeks\n",
    "- `birth_weight_g`: the weight of the baby, in grams\n",
    "\n",
    "Let's get going!"
   ]
  },
  {
   "cell_type": "code",
   "execution_count": 28,
   "id": "28b96ec4-3e59-45d7-91fb-137d0c52d15c",
   "metadata": {},
   "outputs": [],
   "source": [
    "import pandas as pd\n",
    "import scipy\n",
    "import seaborn as sns"
   ]
  },
  {
   "cell_type": "code",
   "execution_count": 90,
   "id": "a159b155-889e-4f09-8917-d6a4e0d3be65",
   "metadata": {},
   "outputs": [
    {
     "name": "stdout",
     "output_type": "stream",
     "text": [
      "<class 'pandas.core.frame.DataFrame'>\n",
      "RangeIndex: 3729372 entries, 0 to 3729371\n",
      "Data columns (total 12 columns):\n",
      " #   Column             Dtype  \n",
      "---  ------             -----  \n",
      " 0   mother_age         float64\n",
      " 1   mother_race6       float64\n",
      " 2   marital_status     float64\n",
      " 3   mother_edu         float64\n",
      " 4   birth_order_num    float64\n",
      " 5   smoker             object \n",
      " 6   mother_height      float64\n",
      " 7   mother_BMI         float64\n",
      " 8   mother_pre_weight  float64\n",
      " 9   infant_sex         object \n",
      " 10  gest_weeks         float64\n",
      " 11  birth_weight_g     float64\n",
      "dtypes: float64(10), object(2)\n",
      "memory usage: 640.2 MB\n"
     ]
    }
   ],
   "source": [
    "df = pd.read_csv(\"births_2016.csv\")\n",
    "df.info(memory_usage=\"deep\")"
   ]
  },
  {
   "cell_type": "code",
   "execution_count": 91,
   "id": "ffb299dd-a908-4a2a-b49b-87fd2ba60272",
   "metadata": {},
   "outputs": [
    {
     "data": {
      "text/plain": [
       "(1000000, 12)"
      ]
     },
     "execution_count": 91,
     "metadata": {},
     "output_type": "execute_result"
    }
   ],
   "source": [
    "df = pd.read_csv(\"births_2016.csv\").sample(1_000_000).reset_index(drop=True)\n",
    "df.shape"
   ]
  },
  {
   "cell_type": "code",
   "execution_count": 92,
   "id": "ecf28d07-e8ff-49dd-a7c8-85cfebf85d35",
   "metadata": {},
   "outputs": [
    {
     "data": {
      "text/html": [
       "<div>\n",
       "<style scoped>\n",
       "    .dataframe tbody tr th:only-of-type {\n",
       "        vertical-align: middle;\n",
       "    }\n",
       "\n",
       "    .dataframe tbody tr th {\n",
       "        vertical-align: top;\n",
       "    }\n",
       "\n",
       "    .dataframe thead th {\n",
       "        text-align: right;\n",
       "    }\n",
       "</style>\n",
       "<table border=\"1\" class=\"dataframe\">\n",
       "  <thead>\n",
       "    <tr style=\"text-align: right;\">\n",
       "      <th></th>\n",
       "      <th>mother_age</th>\n",
       "      <th>mother_race6</th>\n",
       "      <th>marital_status</th>\n",
       "      <th>mother_edu</th>\n",
       "      <th>birth_order_num</th>\n",
       "      <th>smoker</th>\n",
       "      <th>mother_height</th>\n",
       "      <th>mother_BMI</th>\n",
       "      <th>mother_pre_weight</th>\n",
       "      <th>infant_sex</th>\n",
       "      <th>gest_weeks</th>\n",
       "      <th>birth_weight_g</th>\n",
       "    </tr>\n",
       "  </thead>\n",
       "  <tbody>\n",
       "    <tr>\n",
       "      <th>0</th>\n",
       "      <td>28.0</td>\n",
       "      <td>1.0</td>\n",
       "      <td>1.0</td>\n",
       "      <td>3.0</td>\n",
       "      <td>4.0</td>\n",
       "      <td>N</td>\n",
       "      <td>52.0</td>\n",
       "      <td>37.2</td>\n",
       "      <td>143.0</td>\n",
       "      <td>M</td>\n",
       "      <td>40.0</td>\n",
       "      <td>3475.0</td>\n",
       "    </tr>\n",
       "    <tr>\n",
       "      <th>1</th>\n",
       "      <td>27.0</td>\n",
       "      <td>1.0</td>\n",
       "      <td>1.0</td>\n",
       "      <td>6.0</td>\n",
       "      <td>1.0</td>\n",
       "      <td>N</td>\n",
       "      <td>64.0</td>\n",
       "      <td>18.5</td>\n",
       "      <td>108.0</td>\n",
       "      <td>M</td>\n",
       "      <td>40.0</td>\n",
       "      <td>3045.0</td>\n",
       "    </tr>\n",
       "    <tr>\n",
       "      <th>2</th>\n",
       "      <td>21.0</td>\n",
       "      <td>1.0</td>\n",
       "      <td>2.0</td>\n",
       "      <td>3.0</td>\n",
       "      <td>2.0</td>\n",
       "      <td>Y</td>\n",
       "      <td>65.0</td>\n",
       "      <td>26.6</td>\n",
       "      <td>160.0</td>\n",
       "      <td>F</td>\n",
       "      <td>41.0</td>\n",
       "      <td>3230.0</td>\n",
       "    </tr>\n",
       "    <tr>\n",
       "      <th>3</th>\n",
       "      <td>23.0</td>\n",
       "      <td>1.0</td>\n",
       "      <td>2.0</td>\n",
       "      <td>3.0</td>\n",
       "      <td>2.0</td>\n",
       "      <td>N</td>\n",
       "      <td>65.0</td>\n",
       "      <td>17.3</td>\n",
       "      <td>104.0</td>\n",
       "      <td>F</td>\n",
       "      <td>37.0</td>\n",
       "      <td>3090.0</td>\n",
       "    </tr>\n",
       "    <tr>\n",
       "      <th>4</th>\n",
       "      <td>26.0</td>\n",
       "      <td>1.0</td>\n",
       "      <td>1.0</td>\n",
       "      <td>6.0</td>\n",
       "      <td>2.0</td>\n",
       "      <td>N</td>\n",
       "      <td>64.0</td>\n",
       "      <td>26.4</td>\n",
       "      <td>154.0</td>\n",
       "      <td>F</td>\n",
       "      <td>39.0</td>\n",
       "      <td>3930.0</td>\n",
       "    </tr>\n",
       "  </tbody>\n",
       "</table>\n",
       "</div>"
      ],
      "text/plain": [
       "   mother_age  mother_race6  marital_status  mother_edu  birth_order_num  \\\n",
       "0        28.0           1.0             1.0         3.0              4.0   \n",
       "1        27.0           1.0             1.0         6.0              1.0   \n",
       "2        21.0           1.0             2.0         3.0              2.0   \n",
       "3        23.0           1.0             2.0         3.0              2.0   \n",
       "4        26.0           1.0             1.0         6.0              2.0   \n",
       "\n",
       "  smoker  mother_height  mother_BMI  mother_pre_weight infant_sex  gest_weeks  \\\n",
       "0      N           52.0        37.2              143.0          M        40.0   \n",
       "1      N           64.0        18.5              108.0          M        40.0   \n",
       "2      Y           65.0        26.6              160.0          F        41.0   \n",
       "3      N           65.0        17.3              104.0          F        37.0   \n",
       "4      N           64.0        26.4              154.0          F        39.0   \n",
       "\n",
       "   birth_weight_g  \n",
       "0          3475.0  \n",
       "1          3045.0  \n",
       "2          3230.0  \n",
       "3          3090.0  \n",
       "4          3930.0  "
      ]
     },
     "execution_count": 92,
     "metadata": {},
     "output_type": "execute_result"
    }
   ],
   "source": [
    "df.head()"
   ]
  },
  {
   "cell_type": "code",
   "execution_count": 38,
   "id": "42446120-c6f7-41e1-b9ee-48913f87f586",
   "metadata": {},
   "outputs": [
    {
     "name": "stdout",
     "output_type": "stream",
     "text": [
      "<class 'pandas.core.frame.DataFrame'>\n",
      "RangeIndex: 1000000 entries, 0 to 999999\n",
      "Data columns (total 12 columns):\n",
      " #   Column             Non-Null Count    Dtype  \n",
      "---  ------             --------------    -----  \n",
      " 0   mother_age         1000000 non-null  float64\n",
      " 1   mother_race6       1000000 non-null  float64\n",
      " 2   marital_status     1000000 non-null  float64\n",
      " 3   mother_edu         1000000 non-null  float64\n",
      " 4   birth_order_num    1000000 non-null  float64\n",
      " 5   smoker             1000000 non-null  object \n",
      " 6   mother_height      1000000 non-null  float64\n",
      " 7   mother_BMI         1000000 non-null  float64\n",
      " 8   mother_pre_weight  1000000 non-null  float64\n",
      " 9   infant_sex         1000000 non-null  object \n",
      " 10  gest_weeks         1000000 non-null  float64\n",
      " 11  birth_weight_g     1000000 non-null  float64\n",
      "dtypes: float64(10), object(2)\n",
      "memory usage: 171.7 MB\n"
     ]
    }
   ],
   "source": [
    "df.info(memory_usage=\"deep\")"
   ]
  },
  {
   "cell_type": "markdown",
   "id": "8789cb4f-96b8-4751-a124-c1948788e947",
   "metadata": {},
   "source": [
    "How much do most women weigh before they have their first baby? Are there any exceptions/anomalies?"
   ]
  },
  {
   "cell_type": "code",
   "execution_count": 42,
   "id": "19cb6f58-737d-4239-828f-4bac44c62bb3",
   "metadata": {},
   "outputs": [
    {
     "data": {
      "text/plain": [
       "0          True\n",
       "1         False\n",
       "2         False\n",
       "3         False\n",
       "4          True\n",
       "          ...  \n",
       "999995     True\n",
       "999996    False\n",
       "999997    False\n",
       "999998     True\n",
       "999999    False\n",
       "Name: birth_order_num, Length: 1000000, dtype: bool"
      ]
     },
     "execution_count": 42,
     "metadata": {},
     "output_type": "execute_result"
    }
   ],
   "source": [
    "df['birth_order_num'] == 1"
   ]
  },
  {
   "cell_type": "code",
   "execution_count": 40,
   "id": "3d9e4ff1-4590-4fa1-b973-f8f242db0150",
   "metadata": {},
   "outputs": [],
   "source": [
    "# Filter for first-time mothers\n",
    "first_time_mothers = df[df['birth_order_num'] == 1]"
   ]
  },
  {
   "cell_type": "code",
   "execution_count": 41,
   "id": "a4611dec-26d3-4b5f-87ed-9299fcde4310",
   "metadata": {},
   "outputs": [
    {
     "data": {
      "text/html": [
       "<div>\n",
       "<style scoped>\n",
       "    .dataframe tbody tr th:only-of-type {\n",
       "        vertical-align: middle;\n",
       "    }\n",
       "\n",
       "    .dataframe tbody tr th {\n",
       "        vertical-align: top;\n",
       "    }\n",
       "\n",
       "    .dataframe thead th {\n",
       "        text-align: right;\n",
       "    }\n",
       "</style>\n",
       "<table border=\"1\" class=\"dataframe\">\n",
       "  <thead>\n",
       "    <tr style=\"text-align: right;\">\n",
       "      <th></th>\n",
       "      <th>mother_age</th>\n",
       "      <th>mother_race6</th>\n",
       "      <th>marital_status</th>\n",
       "      <th>mother_edu</th>\n",
       "      <th>birth_order_num</th>\n",
       "      <th>smoker</th>\n",
       "      <th>mother_height</th>\n",
       "      <th>mother_BMI</th>\n",
       "      <th>mother_pre_weight</th>\n",
       "      <th>infant_sex</th>\n",
       "      <th>gest_weeks</th>\n",
       "      <th>birth_weight_g</th>\n",
       "    </tr>\n",
       "  </thead>\n",
       "  <tbody>\n",
       "    <tr>\n",
       "      <th>0</th>\n",
       "      <td>32.0</td>\n",
       "      <td>1.0</td>\n",
       "      <td>1.0</td>\n",
       "      <td>2.0</td>\n",
       "      <td>1.0</td>\n",
       "      <td>N</td>\n",
       "      <td>64.0</td>\n",
       "      <td>23.2</td>\n",
       "      <td>135.0</td>\n",
       "      <td>F</td>\n",
       "      <td>41.0</td>\n",
       "      <td>3827.0</td>\n",
       "    </tr>\n",
       "    <tr>\n",
       "      <th>4</th>\n",
       "      <td>20.0</td>\n",
       "      <td>1.0</td>\n",
       "      <td>1.0</td>\n",
       "      <td>3.0</td>\n",
       "      <td>1.0</td>\n",
       "      <td>N</td>\n",
       "      <td>64.0</td>\n",
       "      <td>25.9</td>\n",
       "      <td>151.0</td>\n",
       "      <td>M</td>\n",
       "      <td>38.0</td>\n",
       "      <td>3856.0</td>\n",
       "    </tr>\n",
       "    <tr>\n",
       "      <th>10</th>\n",
       "      <td>27.0</td>\n",
       "      <td>1.0</td>\n",
       "      <td>1.0</td>\n",
       "      <td>5.0</td>\n",
       "      <td>1.0</td>\n",
       "      <td>N</td>\n",
       "      <td>67.0</td>\n",
       "      <td>26.6</td>\n",
       "      <td>170.0</td>\n",
       "      <td>F</td>\n",
       "      <td>40.0</td>\n",
       "      <td>2863.0</td>\n",
       "    </tr>\n",
       "    <tr>\n",
       "      <th>11</th>\n",
       "      <td>18.0</td>\n",
       "      <td>1.0</td>\n",
       "      <td>2.0</td>\n",
       "      <td>2.0</td>\n",
       "      <td>1.0</td>\n",
       "      <td>N</td>\n",
       "      <td>61.0</td>\n",
       "      <td>27.4</td>\n",
       "      <td>145.0</td>\n",
       "      <td>M</td>\n",
       "      <td>34.0</td>\n",
       "      <td>3540.0</td>\n",
       "    </tr>\n",
       "    <tr>\n",
       "      <th>15</th>\n",
       "      <td>21.0</td>\n",
       "      <td>1.0</td>\n",
       "      <td>1.0</td>\n",
       "      <td>3.0</td>\n",
       "      <td>1.0</td>\n",
       "      <td>N</td>\n",
       "      <td>63.0</td>\n",
       "      <td>30.1</td>\n",
       "      <td>170.0</td>\n",
       "      <td>F</td>\n",
       "      <td>36.0</td>\n",
       "      <td>2835.0</td>\n",
       "    </tr>\n",
       "  </tbody>\n",
       "</table>\n",
       "</div>"
      ],
      "text/plain": [
       "    mother_age  mother_race6  marital_status  mother_edu  birth_order_num  \\\n",
       "0         32.0           1.0             1.0         2.0              1.0   \n",
       "4         20.0           1.0             1.0         3.0              1.0   \n",
       "10        27.0           1.0             1.0         5.0              1.0   \n",
       "11        18.0           1.0             2.0         2.0              1.0   \n",
       "15        21.0           1.0             1.0         3.0              1.0   \n",
       "\n",
       "   smoker  mother_height  mother_BMI  mother_pre_weight infant_sex  \\\n",
       "0       N           64.0        23.2              135.0          F   \n",
       "4       N           64.0        25.9              151.0          M   \n",
       "10      N           67.0        26.6              170.0          F   \n",
       "11      N           61.0        27.4              145.0          M   \n",
       "15      N           63.0        30.1              170.0          F   \n",
       "\n",
       "    gest_weeks  birth_weight_g  \n",
       "0         41.0          3827.0  \n",
       "4         38.0          3856.0  \n",
       "10        40.0          2863.0  \n",
       "11        34.0          3540.0  \n",
       "15        36.0          2835.0  "
      ]
     },
     "execution_count": 41,
     "metadata": {},
     "output_type": "execute_result"
    }
   ],
   "source": [
    "first_time_mothers.head()"
   ]
  },
  {
   "cell_type": "code",
   "execution_count": null,
   "id": "526afa61-06c7-4c48-b71e-dc7d72606cb9",
   "metadata": {},
   "outputs": [],
   "source": [
    "# Calculate mean and median pre-pregnancy weight"
   ]
  },
  {
   "cell_type": "code",
   "execution_count": 43,
   "id": "0b834cd6-3760-4930-aec9-e9d22c6bfac9",
   "metadata": {},
   "outputs": [],
   "source": [
    "mean_weight = first_time_mothers['mother_pre_weight'].mean()\n",
    "median_weight = first_time_mothers['mother_pre_weight'].median()"
   ]
  },
  {
   "cell_type": "code",
   "execution_count": 44,
   "id": "67424c59-8fa4-491e-ac8d-8ab4b8d2da49",
   "metadata": {},
   "outputs": [
    {
     "name": "stdout",
     "output_type": "stream",
     "text": [
      "Mean pre-pregnancy weight for first-time mothers: 152.35 pounds\n",
      "Median pre-pregnancy weight for first-time mothers: 143.00 pounds\n"
     ]
    }
   ],
   "source": [
    "print(f\"Mean pre-pregnancy weight for first-time mothers: {mean_weight:.2f} pounds\")\n",
    "print(f\"Median pre-pregnancy weight for first-time mothers: {median_weight:.2f} pounds\")"
   ]
  },
  {
   "cell_type": "markdown",
   "id": "269db546-625a-4dc0-91df-5bfa7146bb95",
   "metadata": {},
   "source": [
    "=AVERAGE(A1:A1000000)"
   ]
  },
  {
   "cell_type": "code",
   "execution_count": 45,
   "id": "023c7e60-4fa5-4d1c-b378-ba6c55261e29",
   "metadata": {},
   "outputs": [
    {
     "data": {
      "text/plain": [
       "np.float64(39.94455549482691)"
      ]
     },
     "execution_count": 45,
     "metadata": {},
     "output_type": "execute_result"
    }
   ],
   "source": [
    "# Identify potential anomalies (e.g., weights outside 3 standard deviations)\n",
    "std = first_time_mothers['mother_pre_weight'].std()\n",
    "std"
   ]
  },
  {
   "cell_type": "code",
   "execution_count": 47,
   "id": "8cf9e9b9-eaaf-40b5-b322-85487121bbe4",
   "metadata": {},
   "outputs": [
    {
     "data": {
      "text/plain": [
       "-112.44999999999999"
      ]
     },
     "execution_count": 47,
     "metadata": {},
     "output_type": "execute_result"
    }
   ],
   "source": [
    "39.9 - 152.35"
   ]
  },
  {
   "cell_type": "code",
   "execution_count": 48,
   "id": "7780ed6e-ff17-444d-8d5b-8df86b4db621",
   "metadata": {},
   "outputs": [
    {
     "name": "stdout",
     "output_type": "stream",
     "text": [
      "Number of anomalies: 4585\n"
     ]
    }
   ],
   "source": [
    "threshold = 3 * std\n",
    "anomalies = first_time_mothers[\n",
    "    (first_time_mothers['mother_pre_weight'] < mean_weight - threshold) \n",
    "  | (first_time_mothers['mother_pre_weight'] > mean_weight + threshold)\n",
    "]\n",
    "\n",
    "print(f\"Number of anomalies: {len(anomalies)}\")"
   ]
  },
  {
   "cell_type": "markdown",
   "id": "48f7d3e4-f8c4-4b16-b67e-2d625a76f51a",
   "metadata": {},
   "source": [
    "What is the average birth weight of babies for each gestational week?"
   ]
  },
  {
   "cell_type": "code",
   "execution_count": 49,
   "id": "b9dc26ea-b13e-4031-bf38-3d08f80b0c2b",
   "metadata": {},
   "outputs": [
    {
     "data": {
      "text/plain": [
       "gest_weeks\n",
       "17.0     466.500000\n",
       "18.0     403.404255\n",
       "19.0     356.500000\n",
       "20.0     411.995968\n",
       "21.0     477.887574\n",
       "22.0     556.261176\n",
       "23.0     633.707593\n",
       "24.0     882.009249\n",
       "25.0     950.683838\n",
       "26.0    1076.326938\n",
       "27.0    1179.028337\n",
       "28.0    1588.982682\n",
       "29.0    1718.762320\n",
       "30.0    1914.852892\n",
       "31.0    2065.367019\n",
       "32.0    2187.869376\n",
       "33.0    2362.461356\n",
       "34.0    2505.790393\n",
       "35.0    2709.319326\n",
       "36.0    2874.081924\n",
       "37.0    3053.059909\n",
       "38.0    3246.318284\n",
       "39.0    3400.921331\n",
       "40.0    3478.616528\n",
       "41.0    3528.586057\n",
       "42.0    3457.942428\n",
       "43.0    3429.308798\n",
       "44.0    3414.831161\n",
       "45.0    3399.436139\n",
       "46.0    3364.566667\n",
       "47.0    3373.837820\n",
       "Name: birth_weight_g, dtype: float64"
      ]
     },
     "execution_count": 49,
     "metadata": {},
     "output_type": "execute_result"
    }
   ],
   "source": [
    "df.groupby('gest_weeks')['birth_weight_g'].mean()"
   ]
  },
  {
   "cell_type": "markdown",
   "id": "809c7277-25bc-4697-9295-a38d554055c6",
   "metadata": {},
   "source": [
    "Do smokers have smaller babies?"
   ]
  },
  {
   "cell_type": "code",
   "execution_count": 53,
   "id": "5f6be254-dd47-4f7c-a57c-76bd63ba98df",
   "metadata": {},
   "outputs": [
    {
     "data": {
      "text/plain": [
       "np.float64(7.145899999999999)"
      ]
     },
     "execution_count": 53,
     "metadata": {},
     "output_type": "execute_result"
    }
   ],
   "source": [
    "(df['smoker'] == 'Y').sum() / 1_000_000 * 100"
   ]
  },
  {
   "cell_type": "code",
   "execution_count": 56,
   "id": "97cfdb0d-81cf-4774-a12c-e1a5ce37bea5",
   "metadata": {},
   "outputs": [],
   "source": [
    "# Compare birth weights of smokers and non-smokers\n",
    "smokers = df[df['smoker'] == 'Y']['birth_weight_g']"
   ]
  },
  {
   "cell_type": "code",
   "execution_count": 57,
   "id": "8e1b8965-62da-4e0a-bfba-0f499c490be9",
   "metadata": {},
   "outputs": [],
   "source": [
    "smokers2 = df.loc[df['smoker'] == 'Y', 'birth_weight_g']"
   ]
  },
  {
   "cell_type": "code",
   "execution_count": 59,
   "id": "573918d2-863c-4a50-969c-2cc12d8992bf",
   "metadata": {},
   "outputs": [
    {
     "data": {
      "text/plain": [
       "np.int64(71459)"
      ]
     },
     "execution_count": 59,
     "metadata": {},
     "output_type": "execute_result"
    }
   ],
   "source": [
    "(smokers == smokers2).sum()"
   ]
  },
  {
   "cell_type": "code",
   "execution_count": 60,
   "id": "b49a9174-0571-4430-8b91-08c028deb355",
   "metadata": {},
   "outputs": [],
   "source": [
    "non_smokers = df[df['smoker'] == 'N']['birth_weight_g']"
   ]
  },
  {
   "cell_type": "code",
   "execution_count": 61,
   "id": "a528a1e7-681b-4546-b023-d4e5c838abfe",
   "metadata": {},
   "outputs": [],
   "source": [
    "# Calculate mean birth weights\n",
    "mean_smoker_weight = smokers.mean()\n",
    "mean_non_smoker_weight = non_smokers.mean()"
   ]
  },
  {
   "cell_type": "code",
   "execution_count": 62,
   "id": "e282a4ec-8e00-45b9-9c0f-ea18dce0d03d",
   "metadata": {},
   "outputs": [
    {
     "name": "stdout",
     "output_type": "stream",
     "text": [
      "Mean birth weight for smokers' babies: 3090.38 grams\n",
      "Mean birth weight for non-smokers' babies: 3287.80 grams\n"
     ]
    }
   ],
   "source": [
    "print(f\"Mean birth weight for smokers' babies: {mean_smoker_weight:.2f} grams\")\n",
    "print(f\"Mean birth weight for non-smokers' babies: {mean_non_smoker_weight:.2f} grams\")"
   ]
  },
  {
   "cell_type": "code",
   "execution_count": 63,
   "id": "9da73bb6-8268-4a37-9f11-02167ca19614",
   "metadata": {},
   "outputs": [
    {
     "name": "stdout",
     "output_type": "stream",
     "text": [
      "T-statistic: -87.18, P-value: 0.0000\n"
     ]
    }
   ],
   "source": [
    "# Perform a t-test to check for significant difference\n",
    "from scipy.stats import ttest_ind\n",
    "\n",
    "t_stat, p_value = ttest_ind(smokers, non_smokers, nan_policy='omit')\n",
    "print(f\"T-statistic: {t_stat:.2f}, P-value: {p_value:.4f}\")"
   ]
  },
  {
   "cell_type": "markdown",
   "id": "feeed3ac-fe79-4a5d-98d2-59c5e587cf4c",
   "metadata": {},
   "source": [
    "Are male and female babies different in weight?"
   ]
  },
  {
   "cell_type": "code",
   "execution_count": 64,
   "id": "f9c67fe5-7eb2-44df-8a65-be817ab35fce",
   "metadata": {},
   "outputs": [],
   "source": [
    "# Compare birth weights by sex\n",
    "male_weights = df[df['infant_sex'] == 'M']['birth_weight_g']"
   ]
  },
  {
   "cell_type": "code",
   "execution_count": 67,
   "id": "836377e2-62cd-40b8-8791-bb80bf7587e0",
   "metadata": {},
   "outputs": [
    {
     "data": {
      "text/plain": [
       "'birth_weight_g'"
      ]
     },
     "execution_count": 67,
     "metadata": {},
     "output_type": "execute_result"
    }
   ],
   "source": [
    "df.columns[11]"
   ]
  },
  {
   "cell_type": "code",
   "execution_count": 69,
   "id": "920894db-c1e8-42f1-bcb3-7b0b7b67e6db",
   "metadata": {},
   "outputs": [
    {
     "data": {
      "text/plain": [
       "0         False\n",
       "1         False\n",
       "2          True\n",
       "3         False\n",
       "4          True\n",
       "          ...  \n",
       "999995     True\n",
       "999996    False\n",
       "999997     True\n",
       "999998     True\n",
       "999999    False\n",
       "Name: infant_sex, Length: 1000000, dtype: bool"
      ]
     },
     "execution_count": 69,
     "metadata": {},
     "output_type": "execute_result"
    }
   ],
   "source": [
    "df['infant_sex'] == 'M'"
   ]
  },
  {
   "cell_type": "code",
   "execution_count": 76,
   "id": "7b979ded-3b2f-4a7d-ae6c-552b4df3d041",
   "metadata": {},
   "outputs": [
    {
     "data": {
      "text/html": [
       "<div>\n",
       "<style scoped>\n",
       "    .dataframe tbody tr th:only-of-type {\n",
       "        vertical-align: middle;\n",
       "    }\n",
       "\n",
       "    .dataframe tbody tr th {\n",
       "        vertical-align: top;\n",
       "    }\n",
       "\n",
       "    .dataframe thead th {\n",
       "        text-align: right;\n",
       "    }\n",
       "</style>\n",
       "<table border=\"1\" class=\"dataframe\">\n",
       "  <thead>\n",
       "    <tr style=\"text-align: right;\">\n",
       "      <th></th>\n",
       "      <th>mother_BMI</th>\n",
       "      <th>mother_pre_weight</th>\n",
       "      <th>infant_sex</th>\n",
       "      <th>gest_weeks</th>\n",
       "    </tr>\n",
       "  </thead>\n",
       "  <tbody>\n",
       "    <tr>\n",
       "      <th>902969</th>\n",
       "      <td>22.7</td>\n",
       "      <td>120.0</td>\n",
       "      <td>M</td>\n",
       "      <td>42.0</td>\n",
       "    </tr>\n",
       "    <tr>\n",
       "      <th>694066</th>\n",
       "      <td>29.5</td>\n",
       "      <td>172.0</td>\n",
       "      <td>M</td>\n",
       "      <td>37.0</td>\n",
       "    </tr>\n",
       "    <tr>\n",
       "      <th>300578</th>\n",
       "      <td>29.7</td>\n",
       "      <td>152.0</td>\n",
       "      <td>M</td>\n",
       "      <td>39.0</td>\n",
       "    </tr>\n",
       "    <tr>\n",
       "      <th>649762</th>\n",
       "      <td>26.7</td>\n",
       "      <td>151.0</td>\n",
       "      <td>M</td>\n",
       "      <td>37.0</td>\n",
       "    </tr>\n",
       "    <tr>\n",
       "      <th>176667</th>\n",
       "      <td>21.1</td>\n",
       "      <td>127.0</td>\n",
       "      <td>F</td>\n",
       "      <td>43.0</td>\n",
       "    </tr>\n",
       "  </tbody>\n",
       "</table>\n",
       "</div>"
      ],
      "text/plain": [
       "        mother_BMI  mother_pre_weight infant_sex  gest_weeks\n",
       "902969        22.7              120.0          M        42.0\n",
       "694066        29.5              172.0          M        37.0\n",
       "300578        29.7              152.0          M        39.0\n",
       "649762        26.7              151.0          M        37.0\n",
       "176667        21.1              127.0          F        43.0"
      ]
     },
     "execution_count": 76,
     "metadata": {},
     "output_type": "execute_result"
    }
   ],
   "source": [
    "df.sample(15).iloc[0:5, 7:11]"
   ]
  },
  {
   "cell_type": "code",
   "execution_count": 77,
   "id": "fe8cb1e0-bb92-4580-a163-571bf5bd312a",
   "metadata": {},
   "outputs": [],
   "source": [
    "female_weights = df[df['infant_sex'] == 'F']['birth_weight_g']\n",
    "\n",
    "# Calculate mean and median weights\n",
    "mean_male = male_weights.mean()\n",
    "mean_female = female_weights.mean()"
   ]
  },
  {
   "cell_type": "code",
   "execution_count": null,
   "id": "cf7e7593-1d8b-4447-8bf5-ac5637ea5786",
   "metadata": {},
   "outputs": [],
   "source": []
  },
  {
   "cell_type": "code",
   "execution_count": 78,
   "id": "769e36ba-bcc6-4aae-a94f-6af62baafce4",
   "metadata": {},
   "outputs": [
    {
     "name": "stdout",
     "output_type": "stream",
     "text": [
      "Mean weight for males: 3330.59 grams\n",
      "Mean weight for females: 3214.21 grams\n"
     ]
    }
   ],
   "source": [
    "print(f\"Mean weight for males: {mean_male:.2f} grams\")\n",
    "print(f\"Mean weight for females: {mean_female:.2f} grams\")"
   ]
  },
  {
   "cell_type": "code",
   "execution_count": 79,
   "id": "a6b06d2f-fd72-4d27-bff6-a2b62018ef65",
   "metadata": {},
   "outputs": [
    {
     "name": "stdout",
     "output_type": "stream",
     "text": [
      "T-statistic: 99.85, P-value: 0.0000\n"
     ]
    }
   ],
   "source": [
    "# Perform a t-test\n",
    "t_stat, p_value = ttest_ind(male_weights, female_weights, nan_policy='omit')\n",
    "print(f\"T-statistic: {t_stat:.2f}, P-value: {p_value:.4f}\")"
   ]
  },
  {
   "cell_type": "markdown",
   "id": "e260941d-cb75-45d0-8331-cd88c464d147",
   "metadata": {},
   "source": [
    "\n",
    "    Is there a correlation between mother's age and gestational weeks?\n"
   ]
  },
  {
   "cell_type": "code",
   "execution_count": 80,
   "id": "4186b493-433d-4f58-a8ec-d613c6f97975",
   "metadata": {},
   "outputs": [
    {
     "data": {
      "text/plain": [
       "<Axes: xlabel='mother_age', ylabel='gest_weeks'>"
      ]
     },
     "execution_count": 80,
     "metadata": {},
     "output_type": "execute_result"
    },
    {
     "data": {
      "image/png": "[encoded data removed]",
      "text/plain": [
       "<Figure size 640x480 with 1 Axes>"
      ]
     },
     "metadata": {},
     "output_type": "display_data"
    }
   ],
   "source": [
    "df['gest_weeks'].corr(df['mother_age'])\n",
    "sns.boxplot(data=df, x='mother_age', y='gest_weeks')"
   ]
  },
  {
   "cell_type": "markdown",
   "id": "f4dba0c1-4638-4167-a7c5-aa4f946ff26a",
   "metadata": {},
   "source": [
    "\n",
    "    How does birth weight vary by birth order?\n"
   ]
  },
  {
   "cell_type": "code",
   "execution_count": 103,
   "id": "eb07f812-cc73-4f34-ae10-58672c8c53a3",
   "metadata": {},
   "outputs": [
    {
     "data": {
      "text/plain": [
       "[1.0, 2.0, 3.0, 4.0, 5.0, 6.0, 7.0, 8.0, 9.0]"
      ]
     },
     "execution_count": 103,
     "metadata": {},
     "output_type": "execute_result"
    }
   ],
   "source": [
    "num_of_babies = sorted(df.birth_order_num.unique().tolist())\n",
    "num_of_babies"
   ]
  },
  {
   "cell_type": "code",
   "execution_count": 105,
   "id": "8be567f9-67f8-4f84-9d3c-b582baa0bde1",
   "metadata": {},
   "outputs": [
    {
     "data": {
      "text/plain": [
       "'Here is a string with a sum 20 in it. Here is the list of babies [1.0, 2.0, 3.0, 4.0, 5.0, 6.0, 7.0, 8.0, 9.0]'"
      ]
     },
     "execution_count": 105,
     "metadata": {},
     "output_type": "execute_result"
    }
   ],
   "source": [
    "f\"Here is a string with a sum {2*10} in it. Here is the list of babies {num_of_babies}\""
   ]
  },
  {
   "cell_type": "code",
   "execution_count": 107,
   "id": "599191e0-b3c6-4e6b-9bdf-0fc69cc4b278",
   "metadata": {
    "scrolled": true
   },
   "outputs": [
    {
     "data": {
      "text/plain": [
       "[3045.0,\n",
       " 3025.0,\n",
       " 2845.0,\n",
       " 2205.0,\n",
       " 2260.0,\n",
       " 3685.0,\n",
       " 3340.0,\n",
       " 2725.0,\n",
       " 3620.0,\n",
       " 2917.0,\n",
       " 3713.0,\n",
       " 2580.0,\n",
       " 3005.0,\n",
       " 3317.0,\n",
       " 3350.0,\n",
       " 3230.0,\n",
       " 3101.0,\n",
       " 2700.0,\n",
       " 4082.0,\n",
       " 2920.0,\n",
       " 3797.0,\n",
       " 3888.0,\n",
       " 3830.0,\n",
       " 2430.0,\n",
       " 1515.0,\n",
       " 3140.0,\n",
       " 3080.0,\n",
       " 3739.0,\n",
       " 3289.0,\n",
       " 3175.0,\n",
       " 3420.0,\n",
       " 3118.0,\n",
       " 3373.0,\n",
       " 3164.0,\n",
       " 2850.0,\n",
       " 3020.0,\n",
       " 3714.0,\n",
       " 3040.0,\n",
       " 3062.0,\n",
       " 3119.0,\n",
       " 3025.0,\n",
       " 2667.0,\n",
       " 3060.0,\n",
       " 3270.0,\n",
       " 4010.0,\n",
       " 3325.0,\n",
       " 3543.0,\n",
       " 3289.0,\n",
       " 3190.0,\n",
       " 3459.0,\n",
       " 4111.0,\n",
       " 3450.0,\n",
       " 2958.0,\n",
       " 3450.0,\n",
       " 3686.0,\n",
       " 2778.0,\n",
       " 3317.0,\n",
       " 3770.0,\n",
       " 2778.0,\n",
       " 3334.0,\n",
       " 4080.0,\n",
       " 2710.0,\n",
       " 2780.0,\n",
       " 3204.0,\n",
       " 1830.0,\n",
       " 3580.0,\n",
       " 3345.0,\n",
       " 3686.0,\n",
       " 3565.0,\n",
       " 3065.0,\n",
       " 4220.0,\n",
       " 2409.0,\n",
       " 3165.0,\n",
       " 3270.0,\n",
       " 4026.0,\n",
       " 2637.0,\n",
       " 3402.0,\n",
       " 3572.0,\n",
       " 4240.0,\n",
       " 3496.0,\n",
       " 2354.0,\n",
       " 3104.0,\n",
       " 2523.0,\n",
       " 3260.0,\n",
       " 4126.0,\n",
       " 3320.0,\n",
       " 2460.0,\n",
       " 3781.0,\n",
       " 3515.0,\n",
       " 2840.0,\n",
       " 2863.0,\n",
       " 2999.0,\n",
       " 3345.0,\n",
       " 2390.0,\n",
       " 3665.0,\n",
       " 3175.0,\n",
       " 2770.0,\n",
       " 4065.0,\n",
       " 3104.0,\n",
       " 3800.0,\n",
       " 3785.0,\n",
       " 3317.0,\n",
       " 4050.0,\n",
       " 3211.0,\n",
       " 2765.0,\n",
       " 3405.0,\n",
       " 3146.0,\n",
       " 3912.0,\n",
       " 3459.0,\n",
       " 3203.0,\n",
       " 1150.0,\n",
       " 4508.0,\n",
       " 2580.0,\n",
       " 3495.0,\n",
       " 3164.0,\n",
       " 3204.0,\n",
       " 3402.0,\n",
       " 3070.0,\n",
       " 3324.0,\n",
       " 1949.0,\n",
       " 3650.0,\n",
       " 3450.0,\n",
       " 3487.0,\n",
       " 3600.0,\n",
       " 3374.0,\n",
       " 3947.0,\n",
       " 3289.0,\n",
       " 3655.0,\n",
       " 3515.0,\n",
       " 4095.0,\n",
       " 3165.0,\n",
       " 2835.0,\n",
       " 2890.0,\n",
       " 3290.0,\n",
       " 3445.0,\n",
       " 3190.0,\n",
       " 3203.0,\n",
       " 3530.0,\n",
       " 2891.0,\n",
       " 2860.0,\n",
       " 3350.0,\n",
       " 3175.0,\n",
       " 2850.0,\n",
       " 3231.0,\n",
       " 3430.0,\n",
       " 3316.0,\n",
       " 2495.0,\n",
       " 3510.0,\n",
       " 3373.0,\n",
       " 4564.0,\n",
       " 2767.0,\n",
       " 3288.0,\n",
       " 3275.0,\n",
       " 2750.0,\n",
       " 2807.0,\n",
       " 3120.0,\n",
       " 3430.0,\n",
       " 3355.0,\n",
       " 3260.0,\n",
       " 2523.0,\n",
       " 2631.0,\n",
       " 4111.0,\n",
       " 3459.0,\n",
       " 3460.0,\n",
       " 2523.0,\n",
       " 2891.0,\n",
       " 3690.0,\n",
       " 2665.0,\n",
       " 3270.0,\n",
       " 4199.0,\n",
       " 3640.0,\n",
       " 3470.0,\n",
       " 3232.0,\n",
       " 3210.0,\n",
       " 3310.0,\n",
       " 3515.0,\n",
       " 3056.0,\n",
       " 3175.0,\n",
       " 2640.0,\n",
       " 2725.0,\n",
       " 2540.0,\n",
       " 2409.0,\n",
       " 3465.0,\n",
       " 2608.0,\n",
       " 3232.0,\n",
       " 3090.0,\n",
       " 3525.0,\n",
       " 3600.0,\n",
       " 2785.0,\n",
       " 2510.0,\n",
       " 3400.0,\n",
       " 3459.0,\n",
       " 3487.0,\n",
       " 2948.0,\n",
       " 3368.0,\n",
       " 3289.0,\n",
       " 3354.0,\n",
       " 2835.0,\n",
       " 4260.0,\n",
       " 3358.0,\n",
       " 2948.0,\n",
       " 3771.0,\n",
       " 3260.0,\n",
       " 2900.0,\n",
       " 3786.0,\n",
       " 3175.0,\n",
       " 3203.0,\n",
       " 3147.0,\n",
       " 4106.0,\n",
       " 3770.0,\n",
       " 3550.0,\n",
       " 3895.0,\n",
       " 3014.0,\n",
       " 2050.0,\n",
       " 345.0,\n",
       " 3656.0,\n",
       " 3433.0,\n",
       " 3536.0,\n",
       " 2211.0,\n",
       " 3395.0,\n",
       " 2299.0,\n",
       " 1876.0,\n",
       " 3270.0,\n",
       " 2920.0,\n",
       " 3380.0,\n",
       " 2390.0,\n",
       " 3045.0,\n",
       " 3487.0,\n",
       " 3790.0,\n",
       " 2795.0,\n",
       " 4223.0,\n",
       " 2590.0,\n",
       " 2560.0,\n",
       " 3629.0,\n",
       " 3345.0,\n",
       " 3365.0,\n",
       " 2920.0,\n",
       " 3556.0,\n",
       " 3180.0,\n",
       " 3125.0,\n",
       " 3544.0,\n",
       " 2778.0,\n",
       " 2636.0,\n",
       " 3686.0,\n",
       " 2850.0,\n",
       " 3629.0,\n",
       " 3280.0,\n",
       " 2940.0,\n",
       " 3600.0,\n",
       " 3420.0,\n",
       " 3629.0,\n",
       " 2673.0,\n",
       " 1310.0,\n",
       " 3795.0,\n",
       " 2691.0,\n",
       " 3180.0,\n",
       " 2895.0,\n",
       " 3865.0,\n",
       " 3232.0,\n",
       " 3941.0,\n",
       " 2296.0,\n",
       " 3460.0,\n",
       " 2466.0,\n",
       " 2960.0,\n",
       " 3160.0,\n",
       " 2892.0,\n",
       " 3487.0,\n",
       " 3670.0,\n",
       " 3880.0,\n",
       " 3459.0,\n",
       " 3895.0,\n",
       " 4054.0,\n",
       " 3730.0,\n",
       " 3360.0,\n",
       " 3370.0,\n",
       " 2549.0,\n",
       " 3175.0,\n",
       " 3885.0,\n",
       " 1418.0,\n",
       " 3209.0,\n",
       " 2850.0,\n",
       " 3410.0,\n",
       " 3856.0,\n",
       " 4680.0,\n",
       " 3606.0,\n",
       " 3147.0,\n",
       " 3336.0,\n",
       " 3208.0,\n",
       " 3997.0,\n",
       " 3572.0,\n",
       " 3161.0,\n",
       " 2920.0,\n",
       " 3771.0,\n",
       " 2925.0,\n",
       " 2778.0,\n",
       " 3990.0,\n",
       " 3544.0,\n",
       " 2140.0,\n",
       " 3940.0,\n",
       " 1418.0,\n",
       " 2590.0,\n",
       " 3430.0,\n",
       " 3330.0,\n",
       " 2815.0,\n",
       " 2504.0,\n",
       " 3685.0,\n",
       " 3755.0,\n",
       " 3062.0,\n",
       " 1930.0,\n",
       " 3062.0,\n",
       " 4253.0,\n",
       " 3146.0,\n",
       " 3459.0,\n",
       " 3175.0,\n",
       " 3203.0,\n",
       " 3374.0,\n",
       " 4090.0,\n",
       " 3119.0,\n",
       " 4423.0,\n",
       " 4025.0,\n",
       " 2748.0,\n",
       " 3530.0,\n",
       " 2665.0,\n",
       " 3855.0,\n",
       " 794.0,\n",
       " 3697.0,\n",
       " 2960.0,\n",
       " 2845.0,\n",
       " 3396.0,\n",
       " 3956.0,\n",
       " 3580.0,\n",
       " 3005.0,\n",
       " 2305.0,\n",
       " 3195.0,\n",
       " 3205.0,\n",
       " 3437.0,\n",
       " 3560.0,\n",
       " 2750.0,\n",
       " 3920.0,\n",
       " 2892.0,\n",
       " 3380.0,\n",
       " 3173.0,\n",
       " 3799.0,\n",
       " 2780.0,\n",
       " 3359.0,\n",
       " 3805.0,\n",
       " 2920.0,\n",
       " 3646.0,\n",
       " 3204.0,\n",
       " 2722.0,\n",
       " 3487.0,\n",
       " 3657.0,\n",
       " 3045.0,\n",
       " 3544.0,\n",
       " 3110.0,\n",
       " 2740.0,\n",
       " 3147.0,\n",
       " 3165.0,\n",
       " 3370.0,\n",
       " 3629.0,\n",
       " 2693.0,\n",
       " 3402.0,\n",
       " 3430.0,\n",
       " 2920.0,\n",
       " 3430.0,\n",
       " 3410.0,\n",
       " 2505.0,\n",
       " 3250.0,\n",
       " 2495.0,\n",
       " 3220.0,\n",
       " 2955.0,\n",
       " 3995.0,\n",
       " 3494.0,\n",
       " 3459.0,\n",
       " 3115.0,\n",
       " 2930.0,\n",
       " 2892.0,\n",
       " 3345.0,\n",
       " 3856.0,\n",
       " 3374.0,\n",
       " 3799.0,\n",
       " 2789.0,\n",
       " 3180.0,\n",
       " 3452.0,\n",
       " 3374.0,\n",
       " 3755.0,\n",
       " 2863.0,\n",
       " 3565.0,\n",
       " 3501.0,\n",
       " 3410.0,\n",
       " 3095.0,\n",
       " 1530.0,\n",
       " 3170.0,\n",
       " 3317.0,\n",
       " 1701.0,\n",
       " 3444.0,\n",
       " 3714.0,\n",
       " 3830.0,\n",
       " 2240.0,\n",
       " 2444.0,\n",
       " 3119.0,\n",
       " 3650.0,\n",
       " 3686.0,\n",
       " 3052.0,\n",
       " 3880.0,\n",
       " 3825.0,\n",
       " 3003.0,\n",
       " 3315.0,\n",
       " 3381.0,\n",
       " 2600.0,\n",
       " 3190.0,\n",
       " 2637.0,\n",
       " 2849.0,\n",
       " 3142.0,\n",
       " 3373.0,\n",
       " 3120.0,\n",
       " 3390.0,\n",
       " 2353.0,\n",
       " 3300.0,\n",
       " 3200.0,\n",
       " 3600.0,\n",
       " 3430.0,\n",
       " 3360.0,\n",
       " 3390.0,\n",
       " 2977.0,\n",
       " 3650.0,\n",
       " 2885.0,\n",
       " 3900.0,\n",
       " 3600.0,\n",
       " 3790.0,\n",
       " 3340.0,\n",
       " 3617.0,\n",
       " 3610.0,\n",
       " 1919.0,\n",
       " 3742.0,\n",
       " 2495.0,\n",
       " 3714.0,\n",
       " 3210.0,\n",
       " 3040.0,\n",
       " 3390.0,\n",
       " 3300.0,\n",
       " 3575.0,\n",
       " 3780.0,\n",
       " 2815.0,\n",
       " 3235.0,\n",
       " 3145.0,\n",
       " 3317.0,\n",
       " 3884.0,\n",
       " 3500.0,\n",
       " 3050.0,\n",
       " 2807.0,\n",
       " 3317.0,\n",
       " 3714.0,\n",
       " 4451.0,\n",
       " 2580.0,\n",
       " 3880.0,\n",
       " 3546.0,\n",
       " 3755.0,\n",
       " 3500.0,\n",
       " 3520.0,\n",
       " 3204.0,\n",
       " 3713.0,\n",
       " 2977.0,\n",
       " 3904.0,\n",
       " 3600.0,\n",
       " 2824.0,\n",
       " 3685.0,\n",
       " 3345.0,\n",
       " 3260.0,\n",
       " 3469.0,\n",
       " 3440.0,\n",
       " 3795.0,\n",
       " 3930.0,\n",
       " 3600.0,\n",
       " 3289.0,\n",
       " 3305.0,\n",
       " 2520.0,\n",
       " 3715.0,\n",
       " 3204.0,\n",
       " 3420.0,\n",
       " 3090.0,\n",
       " 3275.0,\n",
       " 3690.0,\n",
       " 4026.0,\n",
       " 3272.0,\n",
       " 3130.0,\n",
       " 2740.0,\n",
       " 2724.0,\n",
       " 3799.0,\n",
       " 3203.0,\n",
       " 3232.0,\n",
       " 3879.0,\n",
       " 3370.0,\n",
       " 3089.0,\n",
       " 3410.0,\n",
       " 4139.0,\n",
       " 3820.0,\n",
       " 4020.0,\n",
       " 2900.0,\n",
       " 3895.0,\n",
       " 3090.0,\n",
       " 3826.0,\n",
       " 3300.0,\n",
       " 3960.0,\n",
       " 3765.0,\n",
       " 3152.0,\n",
       " 3192.0,\n",
       " 2495.0,\n",
       " 3036.0,\n",
       " 3030.0,\n",
       " 3544.0,\n",
       " 3905.0,\n",
       " 1899.0,\n",
       " 2751.0,\n",
       " 2780.0,\n",
       " 3969.0,\n",
       " 3645.0,\n",
       " 3065.0,\n",
       " 3280.0,\n",
       " 3870.0,\n",
       " 2863.0,\n",
       " 2505.0,\n",
       " 3572.0,\n",
       " 3465.0,\n",
       " 3495.0,\n",
       " 2750.0,\n",
       " 2693.0,\n",
       " 3997.0,\n",
       " 3146.0,\n",
       " 3827.0,\n",
       " 3714.0,\n",
       " 3870.0,\n",
       " 2960.0,\n",
       " 3175.0,\n",
       " 3375.0,\n",
       " 3005.0,\n",
       " 2841.0,\n",
       " 3744.0,\n",
       " 3572.0,\n",
       " 3455.0,\n",
       " 2690.0,\n",
       " 4380.0,\n",
       " 1920.0,\n",
       " 4309.0,\n",
       " 3140.0,\n",
       " 3629.0,\n",
       " 3146.0,\n",
       " 2948.0,\n",
       " 3850.0,\n",
       " 3526.0,\n",
       " 2892.0,\n",
       " 2637.0,\n",
       " 2540.0,\n",
       " 3912.0,\n",
       " 2980.0,\n",
       " 3657.0,\n",
       " 3606.0,\n",
       " 3890.0,\n",
       " 1465.0,\n",
       " 3660.0,\n",
       " 3900.0,\n",
       " 3110.0,\n",
       " 3941.0,\n",
       " 2778.0,\n",
       " 2210.0,\n",
       " 3480.0,\n",
       " 2865.0,\n",
       " 3513.0,\n",
       " 4678.0,\n",
       " 2860.0,\n",
       " 3350.0,\n",
       " 1980.0,\n",
       " 3289.0,\n",
       " 3686.0,\n",
       " 2552.0,\n",
       " 3570.0,\n",
       " 2891.0,\n",
       " 1871.0,\n",
       " 3394.0,\n",
       " 2350.0,\n",
       " 2977.0,\n",
       " 3315.0,\n",
       " 3175.0,\n",
       " 2720.0,\n",
       " 3660.0,\n",
       " 3459.0,\n",
       " 3271.0,\n",
       " 3070.0,\n",
       " 2490.0,\n",
       " 3880.0,\n",
       " 3290.0,\n",
       " 3955.0,\n",
       " 3374.0,\n",
       " 3345.0,\n",
       " 3091.0,\n",
       " 2820.0,\n",
       " 3141.0,\n",
       " 805.0,\n",
       " 2809.0,\n",
       " 3090.0,\n",
       " 3430.0,\n",
       " 2840.0,\n",
       " 3430.0,\n",
       " 2944.0,\n",
       " 3660.0,\n",
       " 3374.0,\n",
       " 2637.0,\n",
       " 2515.0,\n",
       " 3515.0,\n",
       " 2948.0,\n",
       " 3063.0,\n",
       " 3628.0,\n",
       " 3629.0,\n",
       " 1340.0,\n",
       " 2700.0,\n",
       " 3404.0,\n",
       " 2585.0,\n",
       " 3350.0,\n",
       " 3140.0,\n",
       " 4205.0,\n",
       " 3459.0,\n",
       " 2700.0,\n",
       " 3770.0,\n",
       " 737.0,\n",
       " 3870.0,\n",
       " 3498.0,\n",
       " 2930.0,\n",
       " 3231.0,\n",
       " 4390.0,\n",
       " 3690.0,\n",
       " 2980.0,\n",
       " 3964.0,\n",
       " 3125.0,\n",
       " 2671.0,\n",
       " 3715.0,\n",
       " 3565.0,\n",
       " 2807.0,\n",
       " 2750.0,\n",
       " 3572.0,\n",
       " 3520.0,\n",
       " 3890.0,\n",
       " 3401.0,\n",
       " 3147.0,\n",
       " 3090.0,\n",
       " 2506.0,\n",
       " 4224.0,\n",
       " 3795.0,\n",
       " 3005.0,\n",
       " 3475.0,\n",
       " 3250.0,\n",
       " 3374.0,\n",
       " 4000.0,\n",
       " 2386.0,\n",
       " 3565.0,\n",
       " 3629.0,\n",
       " 3430.0,\n",
       " 3147.0,\n",
       " 3410.0,\n",
       " 3016.0,\n",
       " 1345.0,\n",
       " 3960.0,\n",
       " 3090.0,\n",
       " 3845.0,\n",
       " 2608.0,\n",
       " 2722.0,\n",
       " 2299.0,\n",
       " 3912.0,\n",
       " 3640.0,\n",
       " 2920.0,\n",
       " 2708.0,\n",
       " 2889.0,\n",
       " 3880.0,\n",
       " 4040.0,\n",
       " 2116.0,\n",
       " 3159.0,\n",
       " 3731.0,\n",
       " 3062.0,\n",
       " 3118.0,\n",
       " 2855.0,\n",
       " 3204.0,\n",
       " 3005.0,\n",
       " 2645.0,\n",
       " 3880.0,\n",
       " 2418.0,\n",
       " 3600.0,\n",
       " 2155.0,\n",
       " 2867.0,\n",
       " 2785.0,\n",
       " 3289.0,\n",
       " 2840.0,\n",
       " 2040.0,\n",
       " 3391.0,\n",
       " 3170.0,\n",
       " 3912.0,\n",
       " 2855.0,\n",
       " 2720.0,\n",
       " 3606.0,\n",
       " 3920.0,\n",
       " 2608.0,\n",
       " 3720.0,\n",
       " 3572.0,\n",
       " 3745.0,\n",
       " 2892.0,\n",
       " 3335.0,\n",
       " 3090.0,\n",
       " 2920.0,\n",
       " 3630.0,\n",
       " 3447.0,\n",
       " 3335.0,\n",
       " 3029.0,\n",
       " 3203.0,\n",
       " 2750.0,\n",
       " 3145.0,\n",
       " 3725.0,\n",
       " 3459.0,\n",
       " 2778.0,\n",
       " 2665.0,\n",
       " 3686.0,\n",
       " 3289.0,\n",
       " 2910.0,\n",
       " 3487.0,\n",
       " 2750.0,\n",
       " 3232.0,\n",
       " 2778.0,\n",
       " 2296.0,\n",
       " 3218.0,\n",
       " 3090.0,\n",
       " 2948.0,\n",
       " 4400.0,\n",
       " 3487.0,\n",
       " 3487.0,\n",
       " 3469.0,\n",
       " 3197.0,\n",
       " 3640.0,\n",
       " 2693.0,\n",
       " 4451.0,\n",
       " 4400.0,\n",
       " 2930.0,\n",
       " 3490.0,\n",
       " 3544.0,\n",
       " 2835.0,\n",
       " 3220.0,\n",
       " 3105.0,\n",
       " 3320.0,\n",
       " 3710.0,\n",
       " 3805.0,\n",
       " 3618.0,\n",
       " 3370.0,\n",
       " 3118.0,\n",
       " 3040.0,\n",
       " 2900.0,\n",
       " 3220.0,\n",
       " 3230.0,\n",
       " 3420.0,\n",
       " 1541.0,\n",
       " 3374.0,\n",
       " 3510.0,\n",
       " 2110.0,\n",
       " 3771.0,\n",
       " 3264.0,\n",
       " 3147.0,\n",
       " 3600.0,\n",
       " 3572.0,\n",
       " 3378.0,\n",
       " 3510.0,\n",
       " 3481.0,\n",
       " 3375.0,\n",
       " 3550.0,\n",
       " 3119.0,\n",
       " 3317.0,\n",
       " 3760.0,\n",
       " 3310.0,\n",
       " 3430.0,\n",
       " 2070.0,\n",
       " 3544.0,\n",
       " 3175.0,\n",
       " 3495.0,\n",
       " 3570.0,\n",
       " 2920.0,\n",
       " 3130.0,\n",
       " 3317.0,\n",
       " 1160.0,\n",
       " 1840.0,\n",
       " 3810.0,\n",
       " 4480.0,\n",
       " 3230.0,\n",
       " 2495.0,\n",
       " 3232.0,\n",
       " 3310.0,\n",
       " 2126.0,\n",
       " 3220.0,\n",
       " 3345.0,\n",
       " 3269.0,\n",
       " 3560.0,\n",
       " 3245.0,\n",
       " 4205.0,\n",
       " 2398.0,\n",
       " 3459.0,\n",
       " 3425.0,\n",
       " 3290.0,\n",
       " 3459.0,\n",
       " 3771.0,\n",
       " 3410.0,\n",
       " 2915.0,\n",
       " 3544.0,\n",
       " 3220.0,\n",
       " 3033.0,\n",
       " 3685.0,\n",
       " 2975.0,\n",
       " 3572.0,\n",
       " 3150.0,\n",
       " 3485.0,\n",
       " 3140.0,\n",
       " 3260.0,\n",
       " 3661.0,\n",
       " 3477.0,\n",
       " 3860.0,\n",
       " 1380.0,\n",
       " 2910.0,\n",
       " 4102.0,\n",
       " 3203.0,\n",
       " 2994.0,\n",
       " 2637.0,\n",
       " 4111.0,\n",
       " 2722.0,\n",
       " 3544.0,\n",
       " 4350.0,\n",
       " 3760.0,\n",
       " 3552.0,\n",
       " 3570.0,\n",
       " 2970.0,\n",
       " 3203.0,\n",
       " 2585.0,\n",
       " 3884.0,\n",
       " 3515.0,\n",
       " 3833.0,\n",
       " 3572.0,\n",
       " 3190.0,\n",
       " 2925.0,\n",
       " 2855.0,\n",
       " 3681.0,\n",
       " 3260.0,\n",
       " 3402.0,\n",
       " 1956.0,\n",
       " 2551.0,\n",
       " 3459.0,\n",
       " 3635.0,\n",
       " 3090.0,\n",
       " 2945.0,\n",
       " 3510.0,\n",
       " 2870.0,\n",
       " 2948.0,\n",
       " 2626.0,\n",
       " 3595.0,\n",
       " 2977.0,\n",
       " 3345.0,\n",
       " 2840.0,\n",
       " 2041.0,\n",
       " 3204.0,\n",
       " 3487.0,\n",
       " 3160.0,\n",
       " 3385.0,\n",
       " 2960.0,\n",
       " 2415.0,\n",
       " 2970.0,\n",
       " 3567.0,\n",
       " 3487.0,\n",
       " 3629.0,\n",
       " 3572.0,\n",
       " 3610.0,\n",
       " 3515.0,\n",
       " 3160.0,\n",
       " 2120.0,\n",
       " 3147.0,\n",
       " 4300.0,\n",
       " 3450.0,\n",
       " 2867.0,\n",
       " 2865.0,\n",
       " 3544.0,\n",
       " 3905.0,\n",
       " 3380.0,\n",
       " 4281.0,\n",
       " 4252.0,\n",
       " 346.0,\n",
       " 3515.0,\n",
       " 2910.0,\n",
       " 3295.0,\n",
       " 3524.0,\n",
       " 3470.0,\n",
       " 3885.0,\n",
       " 3260.0,\n",
       " 2920.0,\n",
       " 3912.0,\n",
       " 3990.0,\n",
       " 3345.0,\n",
       " 3120.0,\n",
       " 2675.0,\n",
       " 3005.0,\n",
       " 3164.0,\n",
       " 3735.0,\n",
       " 2722.0,\n",
       " 3278.0,\n",
       " 3630.0,\n",
       " 3261.0,\n",
       " 2920.0,\n",
       " 3265.0,\n",
       " 3880.0,\n",
       " 2807.0,\n",
       " 2552.0,\n",
       " 3402.0,\n",
       " 3004.0,\n",
       " 4224.0,\n",
       " 2595.0,\n",
       " 3340.0,\n",
       " 2969.0,\n",
       " 3430.0,\n",
       " 3090.0,\n",
       " 2637.0,\n",
       " 2976.0,\n",
       " 3674.0,\n",
       " 3402.0,\n",
       " 3385.0,\n",
       " 935.0,\n",
       " 3799.0,\n",
       " 3652.0,\n",
       " 1100.0,\n",
       " 3606.0,\n",
       " 3317.0,\n",
       " 2830.0,\n",
       " 2585.0,\n",
       " 3901.0,\n",
       " 4196.0,\n",
       " 3062.0,\n",
       " 3580.0,\n",
       " 4210.0,\n",
       " 2759.0,\n",
       " 3530.0,\n",
       " 3230.0,\n",
       " 3316.0,\n",
       " 1880.0,\n",
       " 3503.0,\n",
       " 3430.0,\n",
       " 3345.0,\n",
       " 3430.0,\n",
       " 3246.0,\n",
       " 3370.0,\n",
       " 3232.0,\n",
       " 2365.0,\n",
       " 2807.0,\n",
       " 2920.0,\n",
       " 3419.0,\n",
       " 3110.0,\n",
       " 2778.0,\n",
       " 3600.0,\n",
       " 3005.0,\n",
       " 3799.0,\n",
       " 3289.0,\n",
       " 3100.0,\n",
       " 3544.0,\n",
       " 4451.0,\n",
       " 2892.0,\n",
       " 3631.0,\n",
       " 3480.0,\n",
       " 3093.0,\n",
       " 3118.0,\n",
       " 2097.0,\n",
       " 3374.0,\n",
       " 3686.0,\n",
       " 2640.0,\n",
       " 3345.0,\n",
       " 3090.0,\n",
       " 3317.0,\n",
       " 2815.0,\n",
       " 3770.0,\n",
       " 2637.0,\n",
       " 3005.0,\n",
       " 3544.0,\n",
       " 2466.0,\n",
       " 2523.0,\n",
       " 3147.0,\n",
       " 3459.0,\n",
       " 2890.0,\n",
       " 3025.0,\n",
       " 2580.0,\n",
       " 4593.0,\n",
       " 2440.0,\n",
       " 3799.0,\n",
       " 3345.0,\n",
       " 2608.0,\n",
       " 2863.0,\n",
       " 3440.0,\n",
       " 3620.0,\n",
       " 3380.0,\n",
       " 3255.0,\n",
       " 3005.0,\n",
       " 3232.0,\n",
       " 2665.0,\n",
       " 3062.0,\n",
       " 4035.0,\n",
       " 3685.0,\n",
       " ...]"
      ]
     },
     "execution_count": 107,
     "metadata": {},
     "output_type": "execute_result"
    }
   ],
   "source": [
    "df[df['birth_order_num'] == 1.0]['birth_weight_g'].to_list()"
   ]
  },
  {
   "cell_type": "code",
   "execution_count": 108,
   "id": "4e1d7013-155e-4d79-acfc-b7e0fc39ac6a",
   "metadata": {},
   "outputs": [],
   "source": [
    "baby_num_and_weights = {}\n",
    "for baby in num_of_babies:\n",
    "    temp_df = df[df['birth_order_num'] == baby]['birth_weight_g'].to_list()\n",
    "    baby_num_and_weights[f\"Baby {int(baby)}\"] = temp_df"
   ]
  },
  {
   "cell_type": "code",
   "execution_count": null,
   "id": "95b264cb-b160-487b-a0d4-d6e034b075a4",
   "metadata": {
    "scrolled": true
   },
   "outputs": [],
   "source": [
    "baby_num_and_weights"
   ]
  },
  {
   "cell_type": "code",
   "execution_count": null,
   "id": "7822dfa1-ce03-4822-93d7-7fab6a05fd9b",
   "metadata": {},
   "outputs": [],
   "source": [
    "df.groupby('birth_order_num')['birth_weight_g'].head()"
   ]
  },
  {
   "cell_type": "code",
   "execution_count": null,
   "id": "e7ddd5e2-39cd-4ced-8392-b6baed27b036",
   "metadata": {},
   "outputs": [],
   "source": [
    "sns.boxplot(data=df, x='birth_order_num', y='birth_weight_g')"
   ]
  },
  {
   "cell_type": "code",
   "execution_count": null,
   "id": "ef304f66-2528-4150-80f5-198dd09e4fe2",
   "metadata": {},
   "outputs": [
    {
     "data": {
      "text/plain": [
       "<Axes: xlabel='birth_order_num', ylabel='birth_weight_g'>"
      ]
     },
     "execution_count": 81,
     "metadata": {},
     "output_type": "execute_result"
    },
    {
     "data": {
      "image/png": "[encoded data removed]",
      "text/plain": [
       "<Figure size 640x480 with 1 Axes>"
      ]
     },
     "metadata": {},
     "output_type": "display_data"
    }
   ],
   "source": []
  },
  {
   "cell_type": "code",
   "execution_count": null,
   "id": "5dc9e183-3baf-4a18-8b91-fcf6c3333a38",
   "metadata": {},
   "outputs": [],
   "source": []
  },
  {
   "cell_type": "code",
   "execution_count": null,
   "id": "c7592c57-d1ca-4e3b-886c-1bb30fca5e3d",
   "metadata": {},
   "outputs": [],
   "source": [
    "import numpy as np\n",
    "import pandas as pd\n",
    "import matplotlib.pyplot as plt\n",
    "from joypy import joyplot\n",
    "\n",
    "# Generate sample data for 10 categories\n",
    "np.random.seed(42)\n",
    "data = {\n",
    "    f\"# of babies {i+1}\": np.random.normal(loc=i, scale=1, size=100) for i in range(9)\n",
    "}\n",
    "data"
   ]
  },
  {
   "cell_type": "code",
   "execution_count": 111,
   "id": "14644bd7-4981-47be-a644-39d5f5a9be90",
   "metadata": {},
   "outputs": [
    {
     "ename": "ValueError",
     "evalue": "All arrays must be of the same length",
     "output_type": "error",
     "traceback": [
      "\u001b[0;31m---------------------------------------------------------------------------\u001b[0m",
      "\u001b[0;31mValueError\u001b[0m                                Traceback (most recent call last)",
      "Cell \u001b[0;32mIn[111], line 2\u001b[0m\n\u001b[1;32m      1\u001b[0m \u001b[38;5;66;03m# Convert to DataFrame\u001b[39;00m\n\u001b[0;32m----> 2\u001b[0m df \u001b[38;5;241m=\u001b[39m \u001b[43mpd\u001b[49m\u001b[38;5;241;43m.\u001b[39;49m\u001b[43mDataFrame\u001b[49m\u001b[43m(\u001b[49m\u001b[43mbaby_num_and_weights\u001b[49m\u001b[43m)\u001b[49m\n\u001b[1;32m      4\u001b[0m \u001b[38;5;66;03m# Create the ridgeline plot\u001b[39;00m\n\u001b[1;32m      5\u001b[0m plt\u001b[38;5;241m.\u001b[39mfigure(figsize\u001b[38;5;241m=\u001b[39m(\u001b[38;5;241m12\u001b[39m, \u001b[38;5;241m8\u001b[39m))\n",
      "File \u001b[0;32m~/decoded/statistics/workshop/.venv/lib/python3.13/site-packages/pandas/core/frame.py:778\u001b[0m, in \u001b[0;36mDataFrame.__init__\u001b[0;34m(self, data, index, columns, dtype, copy)\u001b[0m\n\u001b[1;32m    772\u001b[0m     mgr \u001b[38;5;241m=\u001b[39m \u001b[38;5;28mself\u001b[39m\u001b[38;5;241m.\u001b[39m_init_mgr(\n\u001b[1;32m    773\u001b[0m         data, axes\u001b[38;5;241m=\u001b[39m{\u001b[38;5;124m\"\u001b[39m\u001b[38;5;124mindex\u001b[39m\u001b[38;5;124m\"\u001b[39m: index, \u001b[38;5;124m\"\u001b[39m\u001b[38;5;124mcolumns\u001b[39m\u001b[38;5;124m\"\u001b[39m: columns}, dtype\u001b[38;5;241m=\u001b[39mdtype, copy\u001b[38;5;241m=\u001b[39mcopy\n\u001b[1;32m    774\u001b[0m     )\n\u001b[1;32m    776\u001b[0m \u001b[38;5;28;01melif\u001b[39;00m \u001b[38;5;28misinstance\u001b[39m(data, \u001b[38;5;28mdict\u001b[39m):\n\u001b[1;32m    777\u001b[0m     \u001b[38;5;66;03m# GH#38939 de facto copy defaults to False only in non-dict cases\u001b[39;00m\n\u001b[0;32m--> 778\u001b[0m     mgr \u001b[38;5;241m=\u001b[39m \u001b[43mdict_to_mgr\u001b[49m\u001b[43m(\u001b[49m\u001b[43mdata\u001b[49m\u001b[43m,\u001b[49m\u001b[43m \u001b[49m\u001b[43mindex\u001b[49m\u001b[43m,\u001b[49m\u001b[43m \u001b[49m\u001b[43mcolumns\u001b[49m\u001b[43m,\u001b[49m\u001b[43m \u001b[49m\u001b[43mdtype\u001b[49m\u001b[38;5;241;43m=\u001b[39;49m\u001b[43mdtype\u001b[49m\u001b[43m,\u001b[49m\u001b[43m \u001b[49m\u001b[43mcopy\u001b[49m\u001b[38;5;241;43m=\u001b[39;49m\u001b[43mcopy\u001b[49m\u001b[43m,\u001b[49m\u001b[43m \u001b[49m\u001b[43mtyp\u001b[49m\u001b[38;5;241;43m=\u001b[39;49m\u001b[43mmanager\u001b[49m\u001b[43m)\u001b[49m\n\u001b[1;32m    779\u001b[0m \u001b[38;5;28;01melif\u001b[39;00m \u001b[38;5;28misinstance\u001b[39m(data, ma\u001b[38;5;241m.\u001b[39mMaskedArray):\n\u001b[1;32m    780\u001b[0m     \u001b[38;5;28;01mfrom\u001b[39;00m\u001b[38;5;250m \u001b[39m\u001b[38;5;21;01mnumpy\u001b[39;00m\u001b[38;5;21;01m.\u001b[39;00m\u001b[38;5;21;01mma\u001b[39;00m\u001b[38;5;250m \u001b[39m\u001b[38;5;28;01mimport\u001b[39;00m mrecords\n",
      "File \u001b[0;32m~/decoded/statistics/workshop/.venv/lib/python3.13/site-packages/pandas/core/internals/construction.py:503\u001b[0m, in \u001b[0;36mdict_to_mgr\u001b[0;34m(data, index, columns, dtype, typ, copy)\u001b[0m\n\u001b[1;32m    499\u001b[0m     \u001b[38;5;28;01melse\u001b[39;00m:\n\u001b[1;32m    500\u001b[0m         \u001b[38;5;66;03m# dtype check to exclude e.g. range objects, scalars\u001b[39;00m\n\u001b[1;32m    501\u001b[0m         arrays \u001b[38;5;241m=\u001b[39m [x\u001b[38;5;241m.\u001b[39mcopy() \u001b[38;5;28;01mif\u001b[39;00m \u001b[38;5;28mhasattr\u001b[39m(x, \u001b[38;5;124m\"\u001b[39m\u001b[38;5;124mdtype\u001b[39m\u001b[38;5;124m\"\u001b[39m) \u001b[38;5;28;01melse\u001b[39;00m x \u001b[38;5;28;01mfor\u001b[39;00m x \u001b[38;5;129;01min\u001b[39;00m arrays]\n\u001b[0;32m--> 503\u001b[0m \u001b[38;5;28;01mreturn\u001b[39;00m \u001b[43marrays_to_mgr\u001b[49m\u001b[43m(\u001b[49m\u001b[43marrays\u001b[49m\u001b[43m,\u001b[49m\u001b[43m \u001b[49m\u001b[43mcolumns\u001b[49m\u001b[43m,\u001b[49m\u001b[43m \u001b[49m\u001b[43mindex\u001b[49m\u001b[43m,\u001b[49m\u001b[43m \u001b[49m\u001b[43mdtype\u001b[49m\u001b[38;5;241;43m=\u001b[39;49m\u001b[43mdtype\u001b[49m\u001b[43m,\u001b[49m\u001b[43m \u001b[49m\u001b[43mtyp\u001b[49m\u001b[38;5;241;43m=\u001b[39;49m\u001b[43mtyp\u001b[49m\u001b[43m,\u001b[49m\u001b[43m \u001b[49m\u001b[43mconsolidate\u001b[49m\u001b[38;5;241;43m=\u001b[39;49m\u001b[43mcopy\u001b[49m\u001b[43m)\u001b[49m\n",
      "File \u001b[0;32m~/decoded/statistics/workshop/.venv/lib/python3.13/site-packages/pandas/core/internals/construction.py:114\u001b[0m, in \u001b[0;36marrays_to_mgr\u001b[0;34m(arrays, columns, index, dtype, verify_integrity, typ, consolidate)\u001b[0m\n\u001b[1;32m    111\u001b[0m \u001b[38;5;28;01mif\u001b[39;00m verify_integrity:\n\u001b[1;32m    112\u001b[0m     \u001b[38;5;66;03m# figure out the index, if necessary\u001b[39;00m\n\u001b[1;32m    113\u001b[0m     \u001b[38;5;28;01mif\u001b[39;00m index \u001b[38;5;129;01mis\u001b[39;00m \u001b[38;5;28;01mNone\u001b[39;00m:\n\u001b[0;32m--> 114\u001b[0m         index \u001b[38;5;241m=\u001b[39m \u001b[43m_extract_index\u001b[49m\u001b[43m(\u001b[49m\u001b[43marrays\u001b[49m\u001b[43m)\u001b[49m\n\u001b[1;32m    115\u001b[0m     \u001b[38;5;28;01melse\u001b[39;00m:\n\u001b[1;32m    116\u001b[0m         index \u001b[38;5;241m=\u001b[39m ensure_index(index)\n",
      "File \u001b[0;32m~/decoded/statistics/workshop/.venv/lib/python3.13/site-packages/pandas/core/internals/construction.py:677\u001b[0m, in \u001b[0;36m_extract_index\u001b[0;34m(data)\u001b[0m\n\u001b[1;32m    675\u001b[0m lengths \u001b[38;5;241m=\u001b[39m \u001b[38;5;28mlist\u001b[39m(\u001b[38;5;28mset\u001b[39m(raw_lengths))\n\u001b[1;32m    676\u001b[0m \u001b[38;5;28;01mif\u001b[39;00m \u001b[38;5;28mlen\u001b[39m(lengths) \u001b[38;5;241m>\u001b[39m \u001b[38;5;241m1\u001b[39m:\n\u001b[0;32m--> 677\u001b[0m     \u001b[38;5;28;01mraise\u001b[39;00m \u001b[38;5;167;01mValueError\u001b[39;00m(\u001b[38;5;124m\"\u001b[39m\u001b[38;5;124mAll arrays must be of the same length\u001b[39m\u001b[38;5;124m\"\u001b[39m)\n\u001b[1;32m    679\u001b[0m \u001b[38;5;28;01mif\u001b[39;00m have_dicts:\n\u001b[1;32m    680\u001b[0m     \u001b[38;5;28;01mraise\u001b[39;00m \u001b[38;5;167;01mValueError\u001b[39;00m(\n\u001b[1;32m    681\u001b[0m         \u001b[38;5;124m\"\u001b[39m\u001b[38;5;124mMixing dicts with non-Series may lead to ambiguous ordering.\u001b[39m\u001b[38;5;124m\"\u001b[39m\n\u001b[1;32m    682\u001b[0m     )\n",
      "\u001b[0;31mValueError\u001b[0m: All arrays must be of the same length"
     ]
    }
   ],
   "source": [
    "# Convert to DataFrame\n",
    "df = pd.DataFrame(baby_num_and_weights)\n",
    "\n",
    "# Create the ridgeline plot\n",
    "plt.figure(figsize=(12, 8))\n",
    "joyplot(\n",
    "    data=df,\n",
    "    colormap=plt.cm.viridis,\n",
    "    labels=[f\"Category {i+1}\" for i in range(9)],\n",
    "    title=\"Ridgeline Chart for 10 Categories\"\n",
    ")\n",
    "\n",
    "plt.show()"
   ]
  },
  {
   "cell_type": "markdown",
   "id": "b2947b54-b3ee-419f-9076-b6996198316e",
   "metadata": {},
   "source": [
    "\n",
    "    What's the average BMI by education level?\n"
   ]
  },
  {
   "cell_type": "code",
   "execution_count": null,
   "id": "40d5dbd5-b340-4f8f-8272-97c46f2a4ef9",
   "metadata": {},
   "outputs": [],
   "source": [
    "df.groupby('mother_edu')['mother_BMI'].mean().sort_values()"
   ]
  },
  {
   "cell_type": "markdown",
   "id": "9f9da6cc-d130-44fa-9886-8512be33669c",
   "metadata": {},
   "source": [
    "\n",
    "    Do taller mothers have longer gestational periods?\n"
   ]
  },
  {
   "cell_type": "code",
   "execution_count": null,
   "id": "12e442c6-2598-4347-a8e7-f883f224cf60",
   "metadata": {},
   "outputs": [],
   "source": [
    "df['gest_weeks'].corr(df['mother_height'])\n",
    "sns.scatterplot(data=df, x='mother_height', y='gest_weeks')"
   ]
  },
  {
   "cell_type": "markdown",
   "id": "1cc0cb74-cbb5-4af2-b72b-1bba20e38d47",
   "metadata": {},
   "source": [
    "\n",
    "    Is there a relationship between marital status and smoking behavior?\n"
   ]
  },
  {
   "cell_type": "code",
   "execution_count": null,
   "id": "09651a2a-1cda-4e07-8147-f40f291e8e1e",
   "metadata": {},
   "outputs": [],
   "source": [
    "pd.crosstab(df['marital_status'], df['smoker'])"
   ]
  },
  {
   "cell_type": "markdown",
   "id": "0a760682-b4cb-4152-a816-da71df9fda1e",
   "metadata": {},
   "source": [
    "\n",
    "    How does birth weight differ between smokers and non-smokers for each infant sex?\n"
   ]
  },
  {
   "cell_type": "code",
   "execution_count": null,
   "id": "db754ae2-94e3-4899-9a1f-fd7811ed0052",
   "metadata": {},
   "outputs": [],
   "source": [
    "df.groupby(['smoker', 'infant_sex'])['birth_weight_g'].mean()"
   ]
  },
  {
   "cell_type": "markdown",
   "id": "edd9b5f9-e1f6-447e-90b3-eb720eac623a",
   "metadata": {},
   "source": [
    "\n",
    "    What's the age distribution of mothers by race?\n"
   ]
  },
  {
   "cell_type": "code",
   "execution_count": null,
   "id": "f94bb78d-2441-4139-9e73-35e6c5968d45",
   "metadata": {},
   "outputs": [],
   "source": [
    "sns.boxplot(data=df, x='mother_race6', y='mother_age')"
   ]
  },
  {
   "cell_type": "markdown",
   "id": "7ea81597-a56a-4a56-b308-f95c61ff5df7",
   "metadata": {},
   "source": [
    "\n",
    "    Is there a correlation between mother's pre-pregnancy weight and baby's birth weight?\n"
   ]
  },
  {
   "cell_type": "code",
   "execution_count": null,
   "id": "504ba046-bc93-43f9-a9c8-5ae8b72b4814",
   "metadata": {},
   "outputs": [],
   "source": [
    "df['birth_weight_g'].corr(df['mother_pre_weight'])\n",
    "sns.scatterplot(data=df, x='mother_pre_weight', y='birth_weight_g')"
   ]
  },
  {
   "cell_type": "markdown",
   "id": "6a853102-c5de-40f4-9953-2512cdee9e64",
   "metadata": {},
   "source": [
    "\n",
    "    How does BMI vary by marital status?\n"
   ]
  },
  {
   "cell_type": "code",
   "execution_count": null,
   "id": "0b162029-5079-4239-a6d9-926f9da20762",
   "metadata": {},
   "outputs": [],
   "source": [
    "df.groupby('marital_status')['mother_BMI'].describe()\n",
    "sns.boxplot(data=df, x='marital_status', y='mother_BMI')"
   ]
  },
  {
   "cell_type": "markdown",
   "id": "6911b665-6091-43a0-ab00-07fe06587ebc",
   "metadata": {},
   "source": [
    "\n",
    "    What's the relationship between mother's education and age?\n"
   ]
  },
  {
   "cell_type": "code",
   "execution_count": null,
   "id": "09a87bf3-b450-4672-86df-6b656cd52229",
   "metadata": {},
   "outputs": [],
   "source": [
    "sns.boxplot(data=df, x='mother_edu', y='mother_age')"
   ]
  },
  {
   "cell_type": "markdown",
   "id": "1905454c-66e6-4df9-90be-faa97715426d",
   "metadata": {},
   "source": [
    "\n",
    "    Do first-time mothers tend to be younger?\n"
   ]
  },
  {
   "cell_type": "code",
   "execution_count": null,
   "id": "7ee8d4e0-3216-4414-9a9b-c98cd4a3ac08",
   "metadata": {},
   "outputs": [],
   "source": [
    "df.groupby('birth_order_num')['mother_age'].mean()"
   ]
  },
  {
   "cell_type": "markdown",
   "id": "eaf93056-d396-4f0f-82f3-775068e906a6",
   "metadata": {},
   "source": [
    "\n",
    "    Is there a difference in gestational weeks between smokers and non-smokers?\n"
   ]
  },
  {
   "cell_type": "code",
   "execution_count": null,
   "id": "08773277-66ce-4adb-80a4-300c19f98663",
   "metadata": {},
   "outputs": [],
   "source": [
    "df.groupby('smoker')['gest_weeks'].describe()"
   ]
  },
  {
   "cell_type": "markdown",
   "id": "af464d06-5bd7-4b7b-8741-6c61e1780540",
   "metadata": {},
   "source": [
    "\n",
    "    How does height distribution vary by race?\n"
   ]
  },
  {
   "cell_type": "code",
   "execution_count": null,
   "id": "6a67fd2f-7005-47d1-b217-17602bb03bce",
   "metadata": {},
   "outputs": [],
   "source": [
    "sns.boxplot(data=df, x='mother_race6', y='mother_height')"
   ]
  },
  {
   "cell_type": "code",
   "execution_count": null,
   "id": "b71c61c3-d226-44df-8632-b2dcdc6e237b",
   "metadata": {},
   "outputs": [],
   "source": []
  },
  {
   "cell_type": "code",
   "execution_count": null,
   "id": "6aa9536c-9417-4137-ad5a-0374fcf3522d",
   "metadata": {},
   "outputs": [],
   "source": []
  },
  {
   "cell_type": "code",
   "execution_count": null,
   "id": "31cce45e-63fe-46da-8381-438886ca7963",
   "metadata": {},
   "outputs": [],
   "source": []
  },
  {
   "cell_type": "code",
   "execution_count": null,
   "id": "0811f6b0-8851-4c4e-ba2e-b634aba11abb",
   "metadata": {},
   "outputs": [],
   "source": []
  },
  {
   "cell_type": "code",
   "execution_count": null,
   "id": "24d9ed57-f9e8-4eea-bf34-cead4e2ea84a",
   "metadata": {},
   "outputs": [],
   "source": []
  },
  {
   "cell_type": "code",
   "execution_count": null,
   "id": "482d2236-bec3-49d6-8e72-1e945e33494e",
   "metadata": {},
   "outputs": [],
   "source": []
  },
  {
   "cell_type": "code",
   "execution_count": null,
   "id": "84e42652-f254-427f-8507-5d92646293b2",
   "metadata": {},
   "outputs": [],
   "source": []
  },
  {
   "cell_type": "code",
   "execution_count": null,
   "id": "bbdb99e4-c2f8-4484-9874-4830cb3b5a0e",
   "metadata": {},
   "outputs": [],
   "source": []
  },
  {
   "cell_type": "code",
   "execution_count": null,
   "id": "827ce23b-a1cf-49d7-9e18-fe1e98342fbb",
   "metadata": {},
   "outputs": [],
   "source": []
  },
  {
   "cell_type": "code",
   "execution_count": null,
   "id": "a22d4c32-b02f-4f8f-8036-797e3bb605dc",
   "metadata": {},
   "outputs": [],
   "source": []
  },
  {
   "cell_type": "code",
   "execution_count": null,
   "id": "f453efd0-72a1-48d2-aaad-30779eee52d6",
   "metadata": {},
   "outputs": [],
   "source": []
  }
 ],
 "metadata": {
  "kernelspec": {
   "display_name": "Python 3 (ipykernel)",
   "language": "python",
   "name": "python3"
  },
  "language_info": {
   "codemirror_mode": {
    "name": "ipython",
    "version": 3
   },
   "file_extension": ".py",
   "mimetype": "text/x-python",
   "name": "python",
   "nbconvert_exporter": "python",
   "pygments_lexer": "ipython3",
   "version": "3.13.1"
  }
 },
 "nbformat": 4,
 "nbformat_minor": 5
}
