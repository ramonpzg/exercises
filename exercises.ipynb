{
 "cells": [
  {
   "cell_type": "markdown",
   "id": "dc02ef2c-794a-411e-b834-f72b3cc4c27a",
   "metadata": {},
   "source": [
    "# Exercises"
   ]
  },
  {
   "cell_type": "code",
   "execution_count": null,
   "id": "90f5eb27-78d6-4ea5-aa89-d5cbc4fe4a4b",
   "metadata": {},
   "outputs": [],
   "source": [
    "import pandas as pd"
   ]
  },
  {
   "cell_type": "code",
   "execution_count": null,
   "id": "18d2c1ea-feee-499d-8ea5-bec26e635568",
   "metadata": {},
   "outputs": [],
   "source": [
    "df = pd.read_csv(\"births_2016.csv\").sample(1_000_000).reset_index(drop=True)"
   ]
  },
  {
   "cell_type": "markdown",
   "id": "9ab533bb-45ea-4dbe-9016-42c6ea873c9a",
   "metadata": {},
   "source": [
    "Calculate the average birth weight for male and female babies. Fill in the blanks:"
   ]
  },
  {
   "cell_type": "code",
   "execution_count": null,
   "id": "3d63b9eb-0add-46a0-ba20-3b4fda89b5d2",
   "metadata": {},
   "outputs": [],
   "source": [
    "df.groupby('_____')['_____'].mean()"
   ]
  },
  {
   "cell_type": "markdown",
   "id": "78d86064-f903-477e-b714-ece4a83fc855",
   "metadata": {},
   "source": [
    "Find the minimum and maximum mother's age in the dataset."
   ]
  },
  {
   "cell_type": "code",
   "execution_count": null,
   "id": "41ab8701-8948-4fac-ab40-068851797c65",
   "metadata": {},
   "outputs": [],
   "source": [
    "print(f\"Youngest mother: {df['____'].___()} years\")\n",
    "print(f\"Oldest mother: {df['____'].___()} years\")"
   ]
  },
  {
   "cell_type": "markdown",
   "id": "29701149-933c-48e6-9ef4-b71b983542fd",
   "metadata": {},
   "source": [
    "Create a boxplot comparing birth weights between smokers and non-smokers. Fill in the blanks:"
   ]
  },
  {
   "cell_type": "code",
   "execution_count": null,
   "id": "41323764-aae6-4465-b548-64a5df11f319",
   "metadata": {},
   "outputs": [],
   "source": [
    "import seaborn as sns\n",
    "sns._____(data=df, x='smoker', y='_____')"
   ]
  },
  {
   "cell_type": "markdown",
   "id": "381b4eca-e7d7-4872-ab17-da587f6770a4",
   "metadata": {},
   "source": [
    "Calculate how many mothers in each education level category."
   ]
  },
  {
   "cell_type": "code",
   "execution_count": null,
   "id": "fb6160a6-a5e6-4213-af1b-a2abd84eab84",
   "metadata": {},
   "outputs": [],
   "source": [
    "df['mother_edu'].value_counts().sort_index()"
   ]
  },
  {
   "cell_type": "markdown",
   "id": "bc2984ca-346c-4a85-9a6f-515bb635122b",
   "metadata": {},
   "source": [
    "Find the average BMI for married vs unmarried mothers. Fill in the blanks:"
   ]
  },
  {
   "cell_type": "code",
   "execution_count": null,
   "id": "c93b1d69-a6c0-47e5-9fb6-22e2d62aec81",
   "metadata": {},
   "outputs": [],
   "source": [
    "df.groupby('_____')['mother_BMI']._____()"
   ]
  },
  {
   "cell_type": "markdown",
   "id": "e601d6e8-a95e-4789-8333-8ae707055f79",
   "metadata": {},
   "source": [
    "Create a scatter plot showing the relationship between mother's height and pre-pregnancy weight."
   ]
  },
  {
   "cell_type": "code",
   "execution_count": null,
   "id": "eead8747-fbd4-4650-af51-ab19352f832f",
   "metadata": {},
   "outputs": [],
   "source": [
    "sns.scatterplot(data=df, x='mother_height', y='mother_pre_weight')"
   ]
  },
  {
   "cell_type": "markdown",
   "id": "c802e6c1-23c2-4ef2-8794-684cb24e96ae",
   "metadata": {},
   "source": [
    "Calculate the percentage of smokers in the dataset. Fill in the blanks:"
   ]
  },
  {
   "cell_type": "code",
   "execution_count": null,
   "id": "88404efb-c4c8-4f75-a742-c963efb11470",
   "metadata": {},
   "outputs": [],
   "source": [
    "(df['smoker'] == '_____').mean() * 100"
   ]
  },
  {
   "cell_type": "markdown",
   "id": "d05437a4-a314-4e6a-9e7c-f12d09089312",
   "metadata": {},
   "source": [
    "Find the average gestational weeks for each race category."
   ]
  },
  {
   "cell_type": "code",
   "execution_count": null,
   "id": "70f4890f-b148-4bd1-818a-7abaf68899f8",
   "metadata": {},
   "outputs": [],
   "source": [
    "df.groupby('mother_race6')['gest_weeks'].mean()"
   ]
  },
  {
   "cell_type": "markdown",
   "id": "ac5c5d14-3db8-4978-82d8-080eb3e4517c",
   "metadata": {},
   "source": [
    "Create a histogram of mother's ages. Fill in the blanks:"
   ]
  },
  {
   "cell_type": "code",
   "execution_count": null,
   "id": "b1a7d8d3-e820-4a1a-961f-2d445252facc",
   "metadata": {},
   "outputs": [],
   "source": [
    "plt._____(df['mother_age'], bins=_____)\n",
    "plt.xlabel('Mother Age')\n",
    "plt.ylabel('Frequency')"
   ]
  },
  {
   "cell_type": "markdown",
   "id": "72cacc13-974a-44b7-b352-1e6eb286d8d9",
   "metadata": {},
   "source": [
    "Calculate the correlation between mother's BMI and baby's birth weight. Fill in the blanks:"
   ]
  },
  {
   "cell_type": "code",
   "execution_count": null,
   "id": "9f9776fc-0b18-4e02-8e68-219ee4f59e76",
   "metadata": {},
   "outputs": [],
   "source": [
    "df['_____'].corr(df['_____'])"
   ]
  },
  {
   "cell_type": "markdown",
   "id": "e0813461-10bd-4407-a8c1-df8862cd0091",
   "metadata": {},
   "source": [
    "Find the most common birth order number."
   ]
  },
  {
   "cell_type": "code",
   "execution_count": null,
   "id": "d4663dcc-e40b-43fd-8c4c-441eefc2879a",
   "metadata": {},
   "outputs": [],
   "source": [
    "df['birth_order_num'].mode()"
   ]
  },
  {
   "cell_type": "markdown",
   "id": "1ae1f194-932b-430d-bbaa-dfb6ce2f8178",
   "metadata": {},
   "source": [
    "Create a bar plot showing average birth weight by education level. Fill in the blanks:"
   ]
  },
  {
   "cell_type": "code",
   "execution_count": null,
   "id": "e10502cb-93b5-41b1-947f-54df50174ddf",
   "metadata": {},
   "outputs": [],
   "source": [
    "avg_weight = df.groupby('mother_edu')['birth_weight_g']._____)\n",
    "sns.barplot(x=avg_weight.index, y=avg_weight.values)"
   ]
  },
  {
   "cell_type": "markdown",
   "id": "d4361879-269b-41c6-887e-9dd312be3146",
   "metadata": {},
   "source": [
    "Calculate the average height for mothers with BMI > 30 vs BMI ≤ 30."
   ]
  },
  {
   "cell_type": "code",
   "execution_count": null,
   "id": "43a2b573-6554-465e-9122-29cfeca1cddc",
   "metadata": {},
   "outputs": [],
   "source": [
    "high_bmi = df[df['mother_BMI'] > 30]['mother_height'].mean()\n",
    "normal_bmi = df[df['mother_BMI'] <= 30]['mother_height'].mean()\n",
    "print(f\"Average height for BMI > 30: {high_bmi:.2f}\")\n",
    "print(f\"Average height for BMI ≤ 30: {normal_bmi:.2f}\")"
   ]
  },
  {
   "cell_type": "markdown",
   "id": "11e0e897-b377-4a87-9382-2766f770871c",
   "metadata": {},
   "source": [
    "Create a cross-tabulation of marital status and smoking status. Fill in the blanks:"
   ]
  },
  {
   "cell_type": "code",
   "execution_count": null,
   "id": "5409a803-c8d6-4b2f-81a1-6ee5413810d2",
   "metadata": {},
   "outputs": [],
   "source": [
    "pd._____(df['marital_status'], df['_____'])"
   ]
  },
  {
   "cell_type": "markdown",
   "id": "8355bef4-d1d3-403c-8ab7-1ff7ddabdcc1",
   "metadata": {},
   "source": [
    "Find the median birth weight for each combination of infant sex and smoking status. Fill in the blanks:"
   ]
  },
  {
   "cell_type": "code",
   "execution_count": null,
   "id": "0def02ac-d326-4c6e-8765-2e20d386752c",
   "metadata": {},
   "outputs": [],
   "source": [
    "df.groupby(['infant_sex', '_____'])['birth_weight_g']._____()"
   ]
  },
  {
   "cell_type": "markdown",
   "id": "258f263c-be60-41d3-b079-27ebcf3760b6",
   "metadata": {},
   "source": [
    "Find any outliers in mother's age and investigate their other characteristics"
   ]
  },
  {
   "cell_type": "code",
   "execution_count": null,
   "id": "774c2bbd-23b7-4b6b-8159-9c69f4e8e2e6",
   "metadata": {},
   "outputs": [],
   "source": [
    "# Part A: Create an outlier detection function (fill in the blanks)\n",
    "def find_outliers(column):\n",
    "    Q1 = column._____(0.25)\n",
    "    Q3 = column._____(0.75)\n",
    "    IQR = _____ - _____\n",
    "    lower = Q1 - 1.5 * IQR\n",
    "    upper = Q3 + 1.5 * IQR\n",
    "    return column[(column < lower) | (column > upper)]\n",
    "\n",
    "# Part B: Apply to mother's age and analyze outlier cases\n",
    "outliers = find_outliers(df['mother_age'])\n",
    "df[df['mother_age'].isin(outliers)][['mother_age', 'birth_weight_g', 'mother_edu', 'marital_status']]"
   ]
  },
  {
   "cell_type": "code",
   "execution_count": null,
   "id": "34e2c790-a001-44d3-b893-c1e7d5489b4a",
   "metadata": {},
   "outputs": [],
   "source": []
  },
  {
   "cell_type": "markdown",
   "id": "95a9cf4b-c248-4849-a6e5-610f0471c3d1",
   "metadata": {},
   "source": [
    "Create a comprehensive profile of first-time mothers"
   ]
  },
  {
   "cell_type": "code",
   "execution_count": null,
   "id": "6e46e981-fc13-4dff-b4e4-0772b20fc261",
   "metadata": {},
   "outputs": [],
   "source": [
    "first_time = df[df['birth_order_num'] == 1]\n",
    "profile = {\n",
    "    'avg_age': first_time['mother_age'].mean(),\n",
    "    'education_dist': first_time['mother_edu'].value_counts().sort_index(),\n",
    "    'avg_bmi': first_time['mother_BMI'].mean(),\n",
    "    'smoking_rate': (first_time['smoker'] == 'Y').mean() * 100\n",
    "}\n",
    "# Add two more characteristics of your choice to the profile"
   ]
  },
  {
   "cell_type": "markdown",
   "id": "3553ead9-2194-4681-8bb0-61029bd80e95",
   "metadata": {},
   "source": [
    "Investigate if there's a relationship between mother's height and baby's birth weight, controlling for smoking status"
   ]
  },
  {
   "cell_type": "code",
   "execution_count": null,
   "id": "0b7af8ff-ed69-4707-8679-8aec441177ee",
   "metadata": {},
   "outputs": [],
   "source": [
    "# Create subplot for smokers vs non-smokers\n",
    "fig, (ax1, ax2) = plt.subplots(1, 2, figsize=(12, 5))\n",
    "# Complete the visualization code"
   ]
  },
  {
   "cell_type": "markdown",
   "id": "14f71636-e462-4856-ab25-29d42209f679",
   "metadata": {},
   "source": [
    "Create a function that categorizes pregnancies as 'high risk' based on multiple factors"
   ]
  },
  {
   "cell_type": "code",
   "execution_count": null,
   "id": "930ee97f-ee47-4f46-95e6-2260b85d0aee",
   "metadata": {},
   "outputs": [],
   "source": [
    "def assess_risk(row):\n",
    "    risk_factors = 0\n",
    "    if row['mother_age'] > 35:\n",
    "        risk_factors += 1\n",
    "    if row['mother_BMI'] > 30:\n",
    "        risk_factors += 1\n",
    "    # Add 3 more risk factors\n",
    "    return 'High Risk' if risk_factors >= 2 else 'Normal Risk'\n",
    "\n",
    "df['risk_category'] = df.apply(assess_risk, axis=1)"
   ]
  },
  {
   "cell_type": "markdown",
   "id": "4172689e-fa5c-4a49-abd3-683af6d5fada",
   "metadata": {},
   "source": [
    "Compare birth weights across different demographic combinations"
   ]
  },
  {
   "cell_type": "code",
   "execution_count": null,
   "id": "a4448dbb-6827-48b3-9404-8c675a97959f",
   "metadata": {},
   "outputs": [],
   "source": [
    "# Create a pivot table showing average birth weight by:\n",
    "# - mother's education (rows)\n",
    "# - marital status (columns)\n",
    "# - smoking status (values)\n",
    "pivot = pd.pivot_table(data=df, \n",
    "                      values='_____',\n",
    "                      index='_____',\n",
    "                      columns=['_____', '_____'],\n",
    "                      aggfunc='mean')"
   ]
  },
  {
   "cell_type": "markdown",
   "id": "51f58730-5b1d-4e55-82e2-fdb6a85ef8fc",
   "metadata": {},
   "source": [
    "Write a function to identify and report potential data issues"
   ]
  },
  {
   "cell_type": "code",
   "execution_count": null,
   "id": "c74efe2c-874a-476a-babb-67cf894ed0c2",
   "metadata": {},
   "outputs": [],
   "source": [
    "def data_quality_report(df):\n",
    "    issues = []\n",
    "    # Check for impossible values\n",
    "    if any(df['mother_age'] < 12):\n",
    "        issues.append(\"Found mothers younger than 12\")\n",
    "    # Add 4 more logical checks\n",
    "    return issues"
   ]
  },
  {
   "cell_type": "markdown",
   "id": "e15682b4-f25c-40c2-8fb5-566ac6f611f5",
   "metadata": {},
   "source": [
    "Analyze if taller mothers tend to have larger babies, but make it interesting!"
   ]
  },
  {
   "cell_type": "code",
   "execution_count": null,
   "id": "6f4601cb-eb11-4b91-9542-23badf062c69",
   "metadata": {},
   "outputs": [],
   "source": [
    "# Create height categories\n",
    "df['height_category'] = pd.qcut(df['mother_height'], q=4, labels=['Short', 'Below Average', 'Above Average', 'Tall'])\n",
    "# Create a violin plot showing birth weight distribution by height category\n",
    "sns._____(data=df, x='height_category', y='birth_weight_g')"
   ]
  },
  {
   "cell_type": "markdown",
   "id": "7203ba51-25e3-4100-92c2-c4d8c93135ba",
   "metadata": {},
   "source": [
    "Create a heatmap showing correlations between all numeric variables"
   ]
  },
  {
   "cell_type": "code",
   "execution_count": null,
   "id": "2cf5e235-e52b-48ec-b654-4e2d3d32ab1c",
   "metadata": {},
   "outputs": [],
   "source": [
    "# Select only numeric columns\n",
    "numeric_cols = df.select_dtypes(include=['float64', 'int64']).columns\n",
    "# Create and plot correlation matrix\n",
    "corr_matrix = df[numeric_cols].corr()\n",
    "sns.heatmap(_____, annot=True, cmap='coolwarm', center=0)"
   ]
  },
  {
   "cell_type": "markdown",
   "id": "04ab04a6-f12c-48e5-82e8-0ab135f57f3f",
   "metadata": {},
   "source": [
    "Create BMI categories and analyze birth outcomes"
   ]
  },
  {
   "cell_type": "code",
   "execution_count": null,
   "id": "4b43fbc8-9785-42a7-a751-a487775df14b",
   "metadata": {},
   "outputs": [],
   "source": [
    "def categorize_bmi(bmi):\n",
    "    if bmi < 18.5: return 'Underweight'\n",
    "    elif bmi < 25: return 'Normal'\n",
    "    elif bmi < 30: return 'Overweight'\n",
    "    else: return 'Obese'\n",
    "\n",
    "df['bmi_category'] = df['mother_BMI'].apply(_____)\n",
    "# Analyze average birth weight and gestational weeks by BMI category"
   ]
  },
  {
   "cell_type": "markdown",
   "id": "b16e818b-ae4e-4381-88c9-a6ba041b42bc",
   "metadata": {},
   "source": [
    "Create a visualization showing how education relates to multiple factors"
   ]
  },
  {
   "cell_type": "code",
   "execution_count": null,
   "id": "a3a385e0-0249-44a6-a4b8-5f64d9567828",
   "metadata": {},
   "outputs": [],
   "source": [
    "fig, axes = plt.subplots(2, 2, figsize=(15, 15))\n",
    "# Create 4 different plots showing relationship between education and:\n",
    "# - mother's age\n",
    "# - birth weight\n",
    "# - BMI\n",
    "# - smoking status"
   ]
  },
  {
   "cell_type": "markdown",
   "id": "b10646a7-a206-4f02-b033-ec751b011f56",
   "metadata": {},
   "source": [
    "Investigate health outcomes across different racial groups"
   ]
  },
  {
   "cell_type": "code",
   "execution_count": null,
   "id": "fd3d2d24-0831-442e-974e-9becf227136c",
   "metadata": {},
   "outputs": [],
   "source": [
    "# Calculate and visualize:\n",
    "# - Average birth weight\n",
    "# - Smoking rates\n",
    "# - Average maternal age\n",
    "# - Education levels\n",
    "# Create a dashboard-style visualization"
   ]
  },
  {
   "cell_type": "markdown",
   "id": "4ca457af-3932-4180-bcae-565db0641633",
   "metadata": {},
   "source": [
    "Create a simple model to predict birth weight"
   ]
  },
  {
   "cell_type": "code",
   "execution_count": null,
   "id": "ed8c8859-f916-4475-a5ce-8f3144d1acce",
   "metadata": {},
   "outputs": [],
   "source": [
    "from sklearn.linear_model import LinearRegression\n",
    "# Select features (fill in the blanks)\n",
    "features = ['mother_age', '_____', '_____', '_____']\n",
    "X = df[features]\n",
    "y = df['birth_weight_g']\n",
    "# Create and evaluate model"
   ]
  },
  {
   "cell_type": "markdown",
   "id": "99abe6c1-5990-4434-ba71-79e656c6664c",
   "metadata": {},
   "source": [
    "Create a comprehensive report function"
   ]
  },
  {
   "cell_type": "code",
   "execution_count": null,
   "id": "ce038d42-73aa-4fc6-8d45-64f3461cc5ee",
   "metadata": {},
   "outputs": [],
   "source": [
    "def generate_report(df, group_by_col):\n",
    "    \"\"\"\n",
    "    Creates a detailed report for any grouping variable\n",
    "    \"\"\"\n",
    "    report = {\n",
    "        'sample_size': df[group_by_col].value_counts(),\n",
    "        # Add 5 more metrics that would be interesting to analyze\n",
    "    }\n",
    "    return report"
   ]
  },
  {
   "cell_type": "markdown",
   "id": "a909e563-0403-4c73-8ebb-0464d80c4ded",
   "metadata": {},
   "source": [
    "Create a function to handle missing values intelligently"
   ]
  },
  {
   "cell_type": "code",
   "execution_count": null,
   "id": "2831cb40-43cc-464b-903a-0db99b2a6583",
   "metadata": {},
   "outputs": [],
   "source": [
    "def smart_imputer(df):\n",
    "    # For numeric columns: impute with median if skewed, mean if normal\n",
    "    # For categorical: impute with mode\n",
    "    # Add your logic here\n",
    "    return df"
   ]
  },
  {
   "cell_type": "markdown",
   "id": "5658a311-1397-40ab-8270-bd6165931d70",
   "metadata": {},
   "source": [
    "Create a weighted risk scoring system"
   ]
  },
  {
   "cell_type": "code",
   "execution_count": null,
   "id": "f0de6b1e-54d3-4a94-9a5a-4ff990b28a3a",
   "metadata": {},
   "outputs": [],
   "source": [
    "def calculate_health_score(row):\n",
    "    score = 100\n",
    "    # Deduct points based on various risk factors\n",
    "    if row['smoker'] == 'Y':\n",
    "        score -= 20\n",
    "    # Add at least 5 more scoring rules\n",
    "    return score\n",
    "\n",
    "df['health_score'] = df.apply(calculate_health_score, axis=1)"
   ]
  }
 ],
 "metadata": {
  "kernelspec": {
   "display_name": "Python 3 (ipykernel)",
   "language": "python",
   "name": "python3"
  },
  "language_info": {
   "codemirror_mode": {
    "name": "ipython",
    "version": 3
   },
   "file_extension": ".py",
   "mimetype": "text/x-python",
   "name": "python",
   "nbconvert_exporter": "python",
   "pygments_lexer": "ipython3",
   "version": "3.13.1"
  }
 },
 "nbformat": 4,
 "nbformat_minor": 5
}
