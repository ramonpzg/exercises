{
 "cells": [
  {
   "cell_type": "markdown",
   "id": "dc02ef2c-794a-411e-b834-f72b3cc4c27a",
   "metadata": {},
   "source": [
    "# Exercises"
   ]
  },
  {
   "cell_type": "code",
   "execution_count": null,
   "id": "90f5eb27-78d6-4ea5-aa89-d5cbc4fe4a4b",
   "metadata": {},
   "outputs": [],
   "source": [
    "import pandas as pd"
   ]
  },
  {
   "cell_type": "code",
   "execution_count": null,
   "id": "18d2c1ea-feee-499d-8ea5-bec26e635568",
   "metadata": {},
   "outputs": [],
   "source": [
    "df = pd.read_csv(\"births_2016.csv\").sample(1_000_000).reset_index(drop=True)"
   ]
  },
  {
   "cell_type": "markdown",
   "id": "1be82b4b-a2e8-4309-87c7-b5b76224a41b",
   "metadata": {},
   "source": [
    "Calculate the average birth weight for male and female babies. Fill in the blanks:"
   ]
  },
  {
   "cell_type": "code",
   "execution_count": null,
   "id": "3d63b9eb-0add-46a0-ba20-3b4fda89b5d2",
   "metadata": {},
   "outputs": [],
   "source": [
    "df.groupby('_____')['_____'].mean()\n",
    "# Hint: Use infant_sex and birth_weight_g"
   ]
  },
  {
   "cell_type": "markdown",
   "id": "1748e899-7576-4ee4-b9b5-ca4f04becc95",
   "metadata": {},
   "source": [
    "Find the minimum and maximum mother's age in the dataset."
   ]
  },
  {
   "cell_type": "code",
   "execution_count": null,
   "id": "41ab8701-8948-4fac-ab40-068851797c65",
   "metadata": {},
   "outputs": [],
   "source": [
    "print(f\"Youngest mother: {df['mother_age'].min()} years\")\n",
    "print(f\"Oldest mother: {df['mother_age'].max()} years\")"
   ]
  },
  {
   "cell_type": "markdown",
   "id": "afd391d6-9e11-40d6-8dec-afeb2b9c8847",
   "metadata": {},
   "source": [
    "Create a boxplot comparing birth weights between smokers and non-smokers. Fill in the blanks:"
   ]
  },
  {
   "cell_type": "code",
   "execution_count": null,
   "id": "41323764-aae6-4465-b548-64a5df11f319",
   "metadata": {},
   "outputs": [],
   "source": [
    "import seaborn as sns\n",
    "sns._____(data=df, x='smoker', y='_____')\n",
    "# Hint: Use boxplot and birth_weight_g"
   ]
  },
  {
   "cell_type": "markdown",
   "id": "17b9e123-dd78-4039-b7a1-f1dd7c4ed1ec",
   "metadata": {},
   "source": [
    "Calculate how many mothers in each education level category."
   ]
  },
  {
   "cell_type": "code",
   "execution_count": null,
   "id": "fb6160a6-a5e6-4213-af1b-a2abd84eab84",
   "metadata": {},
   "outputs": [],
   "source": [
    "df['mother_edu'].value_counts().sort_index()"
   ]
  },
  {
   "cell_type": "markdown",
   "id": "313c9204-18fb-4842-87f5-e92db625919b",
   "metadata": {},
   "source": [
    "Find the average BMI for married vs unmarried mothers. Fill in the blanks:"
   ]
  },
  {
   "cell_type": "code",
   "execution_count": null,
   "id": "c93b1d69-a6c0-47e5-9fb6-22e2d62aec81",
   "metadata": {},
   "outputs": [],
   "source": [
    "df.groupby('_____')['mother_BMI']._____()\\\n",
    "# Hint: Use marital_status and mean"
   ]
  },
  {
   "cell_type": "markdown",
   "id": "76600649-c534-4dd3-81a8-6c3f1f3026ab",
   "metadata": {},
   "source": [
    "Create a scatter plot showing the relationship between mother's height and pre-pregnancy weight."
   ]
  },
  {
   "cell_type": "code",
   "execution_count": null,
   "id": "eead8747-fbd4-4650-af51-ab19352f832f",
   "metadata": {},
   "outputs": [],
   "source": [
    "sns.scatterplot(data=df, x='mother_height', y='mother_pre_weight')"
   ]
  },
  {
   "cell_type": "markdown",
   "id": "d4d57b1a-34b3-4483-a0f9-8826d70e8fe2",
   "metadata": {},
   "source": [
    "Calculate the percentage of smokers in the dataset. Fill in the blanks:"
   ]
  },
  {
   "cell_type": "code",
   "execution_count": null,
   "id": "88404efb-c4c8-4f75-a742-c963efb11470",
   "metadata": {},
   "outputs": [],
   "source": [
    "(df['smoker'] == '_____').mean() * 100\n",
    "# Hint: What letter represents smokers?"
   ]
  },
  {
   "cell_type": "markdown",
   "id": "741002b2-3969-49e9-a687-b18ec57b4062",
   "metadata": {},
   "source": [
    "Find the average gestational weeks for each race category."
   ]
  },
  {
   "cell_type": "code",
   "execution_count": null,
   "id": "70f4890f-b148-4bd1-818a-7abaf68899f8",
   "metadata": {},
   "outputs": [],
   "source": [
    "df.groupby('mother_race6')['gest_weeks'].mean()"
   ]
  },
  {
   "cell_type": "markdown",
   "id": "1ca18eaa-6851-4db9-bb35-77a9b1ac6670",
   "metadata": {},
   "source": [
    "Create a histogram of mother's ages. Fill in the blanks:"
   ]
  },
  {
   "cell_type": "code",
   "execution_count": null,
   "id": "b1a7d8d3-e820-4a1a-961f-2d445252facc",
   "metadata": {},
   "outputs": [],
   "source": [
    "plt._____(df['mother_age'], bins=_____)\n",
    "plt.xlabel('Mother Age')\n",
    "plt.ylabel('Frequency')\n",
    "# Hint: Use hist and choose number of bins"
   ]
  },
  {
   "cell_type": "markdown",
   "id": "4a5fe5db-171d-4317-a914-0a51af8733b6",
   "metadata": {},
   "source": [
    "Calculate the correlation between mother's BMI and baby's birth weight. Fill in the blanks:"
   ]
  },
  {
   "cell_type": "code",
   "execution_count": null,
   "id": "9f9776fc-0b18-4e02-8e68-219ee4f59e76",
   "metadata": {},
   "outputs": [],
   "source": [
    "df['_____'].corr(df['_____'])\n",
    "# Hint: Use mother_BMI and birth_weight_g"
   ]
  },
  {
   "cell_type": "markdown",
   "id": "62cd5331-fa2a-4ab4-8612-68a891d1b67d",
   "metadata": {},
   "source": [
    "Find the most common birth order number."
   ]
  },
  {
   "cell_type": "code",
   "execution_count": null,
   "id": "d4663dcc-e40b-43fd-8c4c-441eefc2879a",
   "metadata": {},
   "outputs": [],
   "source": [
    "df['birth_order_num'].mode()"
   ]
  },
  {
   "cell_type": "markdown",
   "id": "2da5f351-3223-4f97-af2f-df572cc0bc1c",
   "metadata": {},
   "source": [
    "Create a bar plot showing average birth weight by education level. Fill in the blanks:"
   ]
  },
  {
   "cell_type": "code",
   "execution_count": null,
   "id": "e10502cb-93b5-41b1-947f-54df50174ddf",
   "metadata": {},
   "outputs": [],
   "source": [
    "avg_weight = df.groupby('mother_edu')['birth_weight_g']._____)\n",
    "sns.barplot(x=avg_weight.index, y=avg_weight.values)\n",
    "# Hint: What calculation do we need?"
   ]
  },
  {
   "cell_type": "markdown",
   "id": "d874971f-087c-487a-8ec8-e6c94a38af26",
   "metadata": {},
   "source": [
    "Calculate the average height for mothers with BMI > 30 vs BMI ≤ 30."
   ]
  },
  {
   "cell_type": "code",
   "execution_count": null,
   "id": "43a2b573-6554-465e-9122-29cfeca1cddc",
   "metadata": {},
   "outputs": [],
   "source": [
    "high_bmi = df[df['mother_BMI'] > 30]['mother_height'].mean()\n",
    "normal_bmi = df[df['mother_BMI'] <= 30]['mother_height'].mean()\n",
    "print(f\"Average height for BMI > 30: {high_bmi:.2f}\")\n",
    "print(f\"Average height for BMI ≤ 30: {normal_bmi:.2f}\")"
   ]
  },
  {
   "cell_type": "markdown",
   "id": "50b4b35f-9fb6-400f-b804-37344dc4beec",
   "metadata": {},
   "source": [
    "Create a cross-tabulation of marital status and smoking status. Fill in the blanks:"
   ]
  },
  {
   "cell_type": "code",
   "execution_count": null,
   "id": "5409a803-c8d6-4b2f-81a1-6ee5413810d2",
   "metadata": {},
   "outputs": [],
   "source": [
    "pd._____(df['marital_status'], df['_____'])\n",
    "# Hint: Use crosstab and smoker"
   ]
  },
  {
   "cell_type": "markdown",
   "id": "9984b87d-993c-443d-ad6c-b978aa73a76c",
   "metadata": {},
   "source": [
    "Find the median birth weight for each combination of infant sex and smoking status. Fill in the blanks:"
   ]
  },
  {
   "cell_type": "code",
   "execution_count": null,
   "id": "0def02ac-d326-4c6e-8765-2e20d386752c",
   "metadata": {},
   "outputs": [],
   "source": [
    "df.groupby(['infant_sex', '_____'])['birth_weight_g']._____()\n",
    "# Hint: Use smoker and median"
   ]
  }
 ],
 "metadata": {
  "kernelspec": {
   "display_name": "Python 3 (ipykernel)",
   "language": "python",
   "name": "python3"
  },
  "language_info": {
   "codemirror_mode": {
    "name": "ipython",
    "version": 3
   },
   "file_extension": ".py",
   "mimetype": "text/x-python",
   "name": "python",
   "nbconvert_exporter": "python",
   "pygments_lexer": "ipython3",
   "version": "3.13.1"
  }
 },
 "nbformat": 4,
 "nbformat_minor": 5
}
